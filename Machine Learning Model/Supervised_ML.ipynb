{
 "cells": [
  {
   "cell_type": "markdown",
   "id": "2165a128",
   "metadata": {},
   "source": [
    "# Supervised machine learning process:"
   ]
  },
  {
   "cell_type": "markdown",
   "id": "2fdb893c",
   "metadata": {},
   "source": [
    "## Import dependencies\n",
    "\n",
    "First import of libraries that will help with wrangling and to visualize data. "
   ]
  },
  {
   "cell_type": "code",
   "execution_count": 16,
   "id": "3b0c1ba2",
   "metadata": {},
   "outputs": [],
   "source": [
    "import pandas as pd \n",
    "import numpy as np\n",
    "import matplotlib.pyplot as plt "
   ]
  },
  {
   "cell_type": "markdown",
   "id": "78b6d048",
   "metadata": {},
   "source": [
    "## Preprocessing \n",
    "\n",
    "Taking a second look at the data after the cleaning process, to identify the features and outcomes of the machine learning model."
   ]
  },
  {
   "cell_type": "code",
   "execution_count": 17,
   "id": "5f6f0735",
   "metadata": {},
   "outputs": [
    {
     "data": {
      "text/html": [
       "<div>\n",
       "<style scoped>\n",
       "    .dataframe tbody tr th:only-of-type {\n",
       "        vertical-align: middle;\n",
       "    }\n",
       "\n",
       "    .dataframe tbody tr th {\n",
       "        vertical-align: top;\n",
       "    }\n",
       "\n",
       "    .dataframe thead th {\n",
       "        text-align: right;\n",
       "    }\n",
       "</style>\n",
       "<table border=\"1\" class=\"dataframe\">\n",
       "  <thead>\n",
       "    <tr style=\"text-align: right;\">\n",
       "      <th></th>\n",
       "      <th>clientnum</th>\n",
       "      <th>attrition_flag</th>\n",
       "      <th>customer_age</th>\n",
       "      <th>gender</th>\n",
       "      <th>dependent_count</th>\n",
       "      <th>education_level</th>\n",
       "      <th>marital_status</th>\n",
       "      <th>income_category</th>\n",
       "      <th>card_category</th>\n",
       "      <th>months_on_book</th>\n",
       "      <th>...</th>\n",
       "      <th>credit_limit</th>\n",
       "      <th>total_revolving_bal</th>\n",
       "      <th>avg_open_to_buy</th>\n",
       "      <th>total_amt_chng_q4_q1</th>\n",
       "      <th>total_trans_amt</th>\n",
       "      <th>total_trans_ct</th>\n",
       "      <th>total_ct_chng_q4_q1</th>\n",
       "      <th>avg_utilization_ratio</th>\n",
       "      <th>Weekly_median_earnings</th>\n",
       "      <th>Yearly_median_earnings</th>\n",
       "    </tr>\n",
       "  </thead>\n",
       "  <tbody>\n",
       "    <tr>\n",
       "      <th>0</th>\n",
       "      <td>768805383</td>\n",
       "      <td>Existing Customer                             ...</td>\n",
       "      <td>45</td>\n",
       "      <td>M                                             ...</td>\n",
       "      <td>3</td>\n",
       "      <td>High School                                   ...</td>\n",
       "      <td>Married                                       ...</td>\n",
       "      <td>$60K - $80K                                   ...</td>\n",
       "      <td>Blue                                          ...</td>\n",
       "      <td>39</td>\n",
       "      <td>...</td>\n",
       "      <td>12691.0</td>\n",
       "      <td>777</td>\n",
       "      <td>11914.0</td>\n",
       "      <td>1.335</td>\n",
       "      <td>1144</td>\n",
       "      <td>42</td>\n",
       "      <td>1.625</td>\n",
       "      <td>0.061</td>\n",
       "      <td>809.0</td>\n",
       "      <td>42068.0</td>\n",
       "    </tr>\n",
       "    <tr>\n",
       "      <th>1</th>\n",
       "      <td>818770008</td>\n",
       "      <td>Existing Customer                             ...</td>\n",
       "      <td>49</td>\n",
       "      <td>F                                             ...</td>\n",
       "      <td>5</td>\n",
       "      <td>Graduate                                      ...</td>\n",
       "      <td>Single                                        ...</td>\n",
       "      <td>Less than $40K                                ...</td>\n",
       "      <td>Blue                                          ...</td>\n",
       "      <td>44</td>\n",
       "      <td>...</td>\n",
       "      <td>8256.0</td>\n",
       "      <td>864</td>\n",
       "      <td>7392.0</td>\n",
       "      <td>1.541</td>\n",
       "      <td>1291</td>\n",
       "      <td>33</td>\n",
       "      <td>3.714</td>\n",
       "      <td>0.105</td>\n",
       "      <td>963.0</td>\n",
       "      <td>50076.0</td>\n",
       "    </tr>\n",
       "    <tr>\n",
       "      <th>2</th>\n",
       "      <td>818770008</td>\n",
       "      <td>Existing Customer                             ...</td>\n",
       "      <td>49</td>\n",
       "      <td>F                                             ...</td>\n",
       "      <td>5</td>\n",
       "      <td>Graduate                                      ...</td>\n",
       "      <td>Single                                        ...</td>\n",
       "      <td>Less than $40K                                ...</td>\n",
       "      <td>Blue                                          ...</td>\n",
       "      <td>44</td>\n",
       "      <td>...</td>\n",
       "      <td>8256.0</td>\n",
       "      <td>864</td>\n",
       "      <td>7392.0</td>\n",
       "      <td>1.541</td>\n",
       "      <td>1291</td>\n",
       "      <td>33</td>\n",
       "      <td>3.714</td>\n",
       "      <td>0.105</td>\n",
       "      <td>1334.0</td>\n",
       "      <td>69368.0</td>\n",
       "    </tr>\n",
       "    <tr>\n",
       "      <th>3</th>\n",
       "      <td>818770008</td>\n",
       "      <td>Existing Customer                             ...</td>\n",
       "      <td>49</td>\n",
       "      <td>F                                             ...</td>\n",
       "      <td>5</td>\n",
       "      <td>Graduate                                      ...</td>\n",
       "      <td>Single                                        ...</td>\n",
       "      <td>Less than $40K                                ...</td>\n",
       "      <td>Blue                                          ...</td>\n",
       "      <td>44</td>\n",
       "      <td>...</td>\n",
       "      <td>8256.0</td>\n",
       "      <td>864</td>\n",
       "      <td>7392.0</td>\n",
       "      <td>1.541</td>\n",
       "      <td>1291</td>\n",
       "      <td>33</td>\n",
       "      <td>3.714</td>\n",
       "      <td>0.105</td>\n",
       "      <td>1924.0</td>\n",
       "      <td>100048.0</td>\n",
       "    </tr>\n",
       "    <tr>\n",
       "      <th>4</th>\n",
       "      <td>713982108</td>\n",
       "      <td>Existing Customer                             ...</td>\n",
       "      <td>51</td>\n",
       "      <td>M                                             ...</td>\n",
       "      <td>3</td>\n",
       "      <td>Graduate                                      ...</td>\n",
       "      <td>Married                                       ...</td>\n",
       "      <td>$80K - $120K                                  ...</td>\n",
       "      <td>Blue                                          ...</td>\n",
       "      <td>36</td>\n",
       "      <td>...</td>\n",
       "      <td>3418.0</td>\n",
       "      <td>0</td>\n",
       "      <td>3418.0</td>\n",
       "      <td>2.594</td>\n",
       "      <td>1887</td>\n",
       "      <td>20</td>\n",
       "      <td>2.333</td>\n",
       "      <td>0.000</td>\n",
       "      <td>963.0</td>\n",
       "      <td>50076.0</td>\n",
       "    </tr>\n",
       "  </tbody>\n",
       "</table>\n",
       "<p>5 rows × 23 columns</p>\n",
       "</div>"
      ],
      "text/plain": [
       "   clientnum                                     attrition_flag  customer_age  \\\n",
       "0  768805383  Existing Customer                             ...            45   \n",
       "1  818770008  Existing Customer                             ...            49   \n",
       "2  818770008  Existing Customer                             ...            49   \n",
       "3  818770008  Existing Customer                             ...            49   \n",
       "4  713982108  Existing Customer                             ...            51   \n",
       "\n",
       "                                              gender  dependent_count  \\\n",
       "0  M                                             ...                3   \n",
       "1  F                                             ...                5   \n",
       "2  F                                             ...                5   \n",
       "3  F                                             ...                5   \n",
       "4  M                                             ...                3   \n",
       "\n",
       "                                     education_level  \\\n",
       "0  High School                                   ...   \n",
       "1  Graduate                                      ...   \n",
       "2  Graduate                                      ...   \n",
       "3  Graduate                                      ...   \n",
       "4  Graduate                                      ...   \n",
       "\n",
       "                                      marital_status  \\\n",
       "0  Married                                       ...   \n",
       "1  Single                                        ...   \n",
       "2  Single                                        ...   \n",
       "3  Single                                        ...   \n",
       "4  Married                                       ...   \n",
       "\n",
       "                                     income_category  \\\n",
       "0  $60K - $80K                                   ...   \n",
       "1  Less than $40K                                ...   \n",
       "2  Less than $40K                                ...   \n",
       "3  Less than $40K                                ...   \n",
       "4  $80K - $120K                                  ...   \n",
       "\n",
       "                                       card_category  months_on_book  ...  \\\n",
       "0  Blue                                          ...              39  ...   \n",
       "1  Blue                                          ...              44  ...   \n",
       "2  Blue                                          ...              44  ...   \n",
       "3  Blue                                          ...              44  ...   \n",
       "4  Blue                                          ...              36  ...   \n",
       "\n",
       "   credit_limit  total_revolving_bal  avg_open_to_buy  total_amt_chng_q4_q1  \\\n",
       "0       12691.0                  777          11914.0                 1.335   \n",
       "1        8256.0                  864           7392.0                 1.541   \n",
       "2        8256.0                  864           7392.0                 1.541   \n",
       "3        8256.0                  864           7392.0                 1.541   \n",
       "4        3418.0                    0           3418.0                 2.594   \n",
       "\n",
       "   total_trans_amt  total_trans_ct  total_ct_chng_q4_q1  \\\n",
       "0             1144              42                1.625   \n",
       "1             1291              33                3.714   \n",
       "2             1291              33                3.714   \n",
       "3             1291              33                3.714   \n",
       "4             1887              20                2.333   \n",
       "\n",
       "   avg_utilization_ratio  Weekly_median_earnings  Yearly_median_earnings  \n",
       "0                  0.061                   809.0                 42068.0  \n",
       "1                  0.105                   963.0                 50076.0  \n",
       "2                  0.105                  1334.0                 69368.0  \n",
       "3                  0.105                  1924.0                100048.0  \n",
       "4                  0.000                   963.0                 50076.0  \n",
       "\n",
       "[5 rows x 23 columns]"
      ]
     },
     "execution_count": 17,
     "metadata": {},
     "output_type": "execute_result"
    }
   ],
   "source": [
    "# Load the data and display first rows \n",
    "\n",
    "path = '../all_data.csv'\n",
    "\n",
    "df = pd.read_csv(path)\n",
    "\n",
    "df.head(5)"
   ]
  },
  {
   "cell_type": "code",
   "execution_count": 10,
   "id": "d9dc0729",
   "metadata": {},
   "outputs": [
    {
     "data": {
      "text/html": [
       "<div>\n",
       "<style scoped>\n",
       "    .dataframe tbody tr th:only-of-type {\n",
       "        vertical-align: middle;\n",
       "    }\n",
       "\n",
       "    .dataframe tbody tr th {\n",
       "        vertical-align: top;\n",
       "    }\n",
       "\n",
       "    .dataframe thead th {\n",
       "        text-align: right;\n",
       "    }\n",
       "</style>\n",
       "<table border=\"1\" class=\"dataframe\">\n",
       "  <thead>\n",
       "    <tr style=\"text-align: right;\">\n",
       "      <th></th>\n",
       "      <th>attrition_flag</th>\n",
       "      <th>customer_age</th>\n",
       "      <th>gender</th>\n",
       "      <th>dependent_count</th>\n",
       "      <th>education_level</th>\n",
       "      <th>marital_status</th>\n",
       "      <th>income_category</th>\n",
       "      <th>card_category</th>\n",
       "      <th>months_on_book</th>\n",
       "      <th>total_relationship_count</th>\n",
       "      <th>...</th>\n",
       "      <th>credit_limit</th>\n",
       "      <th>total_revolving_bal</th>\n",
       "      <th>avg_open_to_buy</th>\n",
       "      <th>total_amt_chng_q4_q1</th>\n",
       "      <th>total_trans_amt</th>\n",
       "      <th>total_trans_ct</th>\n",
       "      <th>total_ct_chng_q4_q1</th>\n",
       "      <th>avg_utilization_ratio</th>\n",
       "      <th>Weekly_median_earnings</th>\n",
       "      <th>Yearly_median_earnings</th>\n",
       "    </tr>\n",
       "  </thead>\n",
       "  <tbody>\n",
       "    <tr>\n",
       "      <th>0</th>\n",
       "      <td>Existing Customer                             ...</td>\n",
       "      <td>45</td>\n",
       "      <td>M                                             ...</td>\n",
       "      <td>3</td>\n",
       "      <td>High School                                   ...</td>\n",
       "      <td>Married                                       ...</td>\n",
       "      <td>$60K - $80K                                   ...</td>\n",
       "      <td>Blue                                          ...</td>\n",
       "      <td>39</td>\n",
       "      <td>5</td>\n",
       "      <td>...</td>\n",
       "      <td>12691.0</td>\n",
       "      <td>777</td>\n",
       "      <td>11914.0</td>\n",
       "      <td>1.335</td>\n",
       "      <td>1144</td>\n",
       "      <td>42</td>\n",
       "      <td>1.625</td>\n",
       "      <td>0.061</td>\n",
       "      <td>809.0</td>\n",
       "      <td>42068.0</td>\n",
       "    </tr>\n",
       "    <tr>\n",
       "      <th>1</th>\n",
       "      <td>Existing Customer                             ...</td>\n",
       "      <td>49</td>\n",
       "      <td>F                                             ...</td>\n",
       "      <td>5</td>\n",
       "      <td>Graduate                                      ...</td>\n",
       "      <td>Single                                        ...</td>\n",
       "      <td>Less than $40K                                ...</td>\n",
       "      <td>Blue                                          ...</td>\n",
       "      <td>44</td>\n",
       "      <td>6</td>\n",
       "      <td>...</td>\n",
       "      <td>8256.0</td>\n",
       "      <td>864</td>\n",
       "      <td>7392.0</td>\n",
       "      <td>1.541</td>\n",
       "      <td>1291</td>\n",
       "      <td>33</td>\n",
       "      <td>3.714</td>\n",
       "      <td>0.105</td>\n",
       "      <td>963.0</td>\n",
       "      <td>50076.0</td>\n",
       "    </tr>\n",
       "    <tr>\n",
       "      <th>2</th>\n",
       "      <td>Existing Customer                             ...</td>\n",
       "      <td>49</td>\n",
       "      <td>F                                             ...</td>\n",
       "      <td>5</td>\n",
       "      <td>Graduate                                      ...</td>\n",
       "      <td>Single                                        ...</td>\n",
       "      <td>Less than $40K                                ...</td>\n",
       "      <td>Blue                                          ...</td>\n",
       "      <td>44</td>\n",
       "      <td>6</td>\n",
       "      <td>...</td>\n",
       "      <td>8256.0</td>\n",
       "      <td>864</td>\n",
       "      <td>7392.0</td>\n",
       "      <td>1.541</td>\n",
       "      <td>1291</td>\n",
       "      <td>33</td>\n",
       "      <td>3.714</td>\n",
       "      <td>0.105</td>\n",
       "      <td>1334.0</td>\n",
       "      <td>69368.0</td>\n",
       "    </tr>\n",
       "    <tr>\n",
       "      <th>3</th>\n",
       "      <td>Existing Customer                             ...</td>\n",
       "      <td>49</td>\n",
       "      <td>F                                             ...</td>\n",
       "      <td>5</td>\n",
       "      <td>Graduate                                      ...</td>\n",
       "      <td>Single                                        ...</td>\n",
       "      <td>Less than $40K                                ...</td>\n",
       "      <td>Blue                                          ...</td>\n",
       "      <td>44</td>\n",
       "      <td>6</td>\n",
       "      <td>...</td>\n",
       "      <td>8256.0</td>\n",
       "      <td>864</td>\n",
       "      <td>7392.0</td>\n",
       "      <td>1.541</td>\n",
       "      <td>1291</td>\n",
       "      <td>33</td>\n",
       "      <td>3.714</td>\n",
       "      <td>0.105</td>\n",
       "      <td>1924.0</td>\n",
       "      <td>100048.0</td>\n",
       "    </tr>\n",
       "    <tr>\n",
       "      <th>4</th>\n",
       "      <td>Existing Customer                             ...</td>\n",
       "      <td>51</td>\n",
       "      <td>M                                             ...</td>\n",
       "      <td>3</td>\n",
       "      <td>Graduate                                      ...</td>\n",
       "      <td>Married                                       ...</td>\n",
       "      <td>$80K - $120K                                  ...</td>\n",
       "      <td>Blue                                          ...</td>\n",
       "      <td>36</td>\n",
       "      <td>4</td>\n",
       "      <td>...</td>\n",
       "      <td>3418.0</td>\n",
       "      <td>0</td>\n",
       "      <td>3418.0</td>\n",
       "      <td>2.594</td>\n",
       "      <td>1887</td>\n",
       "      <td>20</td>\n",
       "      <td>2.333</td>\n",
       "      <td>0.000</td>\n",
       "      <td>963.0</td>\n",
       "      <td>50076.0</td>\n",
       "    </tr>\n",
       "  </tbody>\n",
       "</table>\n",
       "<p>5 rows × 22 columns</p>\n",
       "</div>"
      ],
      "text/plain": [
       "                                      attrition_flag  customer_age  \\\n",
       "0  Existing Customer                             ...            45   \n",
       "1  Existing Customer                             ...            49   \n",
       "2  Existing Customer                             ...            49   \n",
       "3  Existing Customer                             ...            49   \n",
       "4  Existing Customer                             ...            51   \n",
       "\n",
       "                                              gender  dependent_count  \\\n",
       "0  M                                             ...                3   \n",
       "1  F                                             ...                5   \n",
       "2  F                                             ...                5   \n",
       "3  F                                             ...                5   \n",
       "4  M                                             ...                3   \n",
       "\n",
       "                                     education_level  \\\n",
       "0  High School                                   ...   \n",
       "1  Graduate                                      ...   \n",
       "2  Graduate                                      ...   \n",
       "3  Graduate                                      ...   \n",
       "4  Graduate                                      ...   \n",
       "\n",
       "                                      marital_status  \\\n",
       "0  Married                                       ...   \n",
       "1  Single                                        ...   \n",
       "2  Single                                        ...   \n",
       "3  Single                                        ...   \n",
       "4  Married                                       ...   \n",
       "\n",
       "                                     income_category  \\\n",
       "0  $60K - $80K                                   ...   \n",
       "1  Less than $40K                                ...   \n",
       "2  Less than $40K                                ...   \n",
       "3  Less than $40K                                ...   \n",
       "4  $80K - $120K                                  ...   \n",
       "\n",
       "                                       card_category  months_on_book  \\\n",
       "0  Blue                                          ...              39   \n",
       "1  Blue                                          ...              44   \n",
       "2  Blue                                          ...              44   \n",
       "3  Blue                                          ...              44   \n",
       "4  Blue                                          ...              36   \n",
       "\n",
       "   total_relationship_count  ...  credit_limit  total_revolving_bal  \\\n",
       "0                         5  ...       12691.0                  777   \n",
       "1                         6  ...        8256.0                  864   \n",
       "2                         6  ...        8256.0                  864   \n",
       "3                         6  ...        8256.0                  864   \n",
       "4                         4  ...        3418.0                    0   \n",
       "\n",
       "   avg_open_to_buy  total_amt_chng_q4_q1  total_trans_amt  total_trans_ct  \\\n",
       "0          11914.0                 1.335             1144              42   \n",
       "1           7392.0                 1.541             1291              33   \n",
       "2           7392.0                 1.541             1291              33   \n",
       "3           7392.0                 1.541             1291              33   \n",
       "4           3418.0                 2.594             1887              20   \n",
       "\n",
       "   total_ct_chng_q4_q1  avg_utilization_ratio  Weekly_median_earnings  \\\n",
       "0                1.625                  0.061                   809.0   \n",
       "1                3.714                  0.105                   963.0   \n",
       "2                3.714                  0.105                  1334.0   \n",
       "3                3.714                  0.105                  1924.0   \n",
       "4                2.333                  0.000                   963.0   \n",
       "\n",
       "   Yearly_median_earnings  \n",
       "0                 42068.0  \n",
       "1                 50076.0  \n",
       "2                 69368.0  \n",
       "3                100048.0  \n",
       "4                 50076.0  \n",
       "\n",
       "[5 rows x 22 columns]"
      ]
     },
     "execution_count": 10,
     "metadata": {},
     "output_type": "execute_result"
    }
   ],
   "source": [
    "# Drop the unique values that won't serve to the model and display first rows \n",
    "\n",
    "df = df.drop(columns=['clientnum'], axis =1)\n",
    "\n",
    "df.head(5)"
   ]
  },
  {
   "cell_type": "markdown",
   "id": "4fd79450",
   "metadata": {},
   "source": [
    "### Identify and separate dependent and independent variables "
   ]
  },
  {
   "cell_type": "code",
   "execution_count": 21,
   "id": "96e62609",
   "metadata": {},
   "outputs": [],
   "source": [
    "# Identifying categorical and non-categorical variables \n",
    "\n",
    "categorical = ['gender','education_level', 'marital_status', 'income_category', 'card_category']\n",
    "\n",
    "non_categorical = ['customer_age', 'dependent_count',\n",
    "       'months_on_book', 'total_relationship_count', 'months_inactive_12_mon',\n",
    "       'contacts_count_12_mon', 'credit_limit', 'total_revolving_bal',\n",
    "       'avg_open_to_buy', 'total_amt_chng_q4_q1', 'total_trans_amt',\n",
    "       'total_trans_ct', 'total_ct_chng_q4_q1', 'avg_utilization_ratio',\n",
    "       'Weekly_median_earnings', 'Yearly_median_earnings']"
   ]
  },
  {
   "cell_type": "code",
   "execution_count": 28,
   "id": "e35b5379",
   "metadata": {},
   "outputs": [],
   "source": [
    "# Separating dependent and independent variables \n",
    "\n",
    "y = df[['attrition_flag']]\n",
    "\n",
    "X = df[['customer_age', 'gender', 'dependent_count',\n",
    "       'education_level', 'marital_status', 'income_category', 'card_category',\n",
    "       'months_on_book', 'total_relationship_count', 'months_inactive_12_mon',\n",
    "       'contacts_count_12_mon', 'credit_limit', 'total_revolving_bal',\n",
    "       'avg_open_to_buy', 'total_amt_chng_q4_q1', 'total_trans_amt',\n",
    "       'total_trans_ct', 'total_ct_chng_q4_q1', 'avg_utilization_ratio',\n",
    "       'Weekly_median_earnings', 'Yearly_median_earnings']] "
   ]
  },
  {
   "cell_type": "code",
   "execution_count": 29,
   "id": "4db4795d",
   "metadata": {},
   "outputs": [
    {
     "data": {
      "text/html": [
       "<div>\n",
       "<style scoped>\n",
       "    .dataframe tbody tr th:only-of-type {\n",
       "        vertical-align: middle;\n",
       "    }\n",
       "\n",
       "    .dataframe tbody tr th {\n",
       "        vertical-align: top;\n",
       "    }\n",
       "\n",
       "    .dataframe thead th {\n",
       "        text-align: right;\n",
       "    }\n",
       "</style>\n",
       "<table border=\"1\" class=\"dataframe\">\n",
       "  <thead>\n",
       "    <tr style=\"text-align: right;\">\n",
       "      <th></th>\n",
       "      <th>customer_age</th>\n",
       "      <th>dependent_count</th>\n",
       "      <th>months_on_book</th>\n",
       "      <th>total_relationship_count</th>\n",
       "      <th>months_inactive_12_mon</th>\n",
       "      <th>contacts_count_12_mon</th>\n",
       "      <th>credit_limit</th>\n",
       "      <th>total_revolving_bal</th>\n",
       "      <th>avg_open_to_buy</th>\n",
       "      <th>total_amt_chng_q4_q1</th>\n",
       "      <th>...</th>\n",
       "      <th>income_category_$120K +</th>\n",
       "      <th>income_category_$40K - $60K</th>\n",
       "      <th>income_category_$60K - $80K</th>\n",
       "      <th>income_category_$80K - $120K</th>\n",
       "      <th>income_category_Less than $40K</th>\n",
       "      <th>income_category_Unknown</th>\n",
       "      <th>card_category_Blue</th>\n",
       "      <th>card_category_Gold</th>\n",
       "      <th>card_category_Platinum</th>\n",
       "      <th>card_category_Silver</th>\n",
       "    </tr>\n",
       "  </thead>\n",
       "  <tbody>\n",
       "    <tr>\n",
       "      <th>0</th>\n",
       "      <td>45</td>\n",
       "      <td>3</td>\n",
       "      <td>39</td>\n",
       "      <td>5</td>\n",
       "      <td>1</td>\n",
       "      <td>3</td>\n",
       "      <td>12691.0</td>\n",
       "      <td>777</td>\n",
       "      <td>11914.0</td>\n",
       "      <td>1.335</td>\n",
       "      <td>...</td>\n",
       "      <td>0</td>\n",
       "      <td>0</td>\n",
       "      <td>1</td>\n",
       "      <td>0</td>\n",
       "      <td>0</td>\n",
       "      <td>0</td>\n",
       "      <td>1</td>\n",
       "      <td>0</td>\n",
       "      <td>0</td>\n",
       "      <td>0</td>\n",
       "    </tr>\n",
       "    <tr>\n",
       "      <th>1</th>\n",
       "      <td>49</td>\n",
       "      <td>5</td>\n",
       "      <td>44</td>\n",
       "      <td>6</td>\n",
       "      <td>1</td>\n",
       "      <td>2</td>\n",
       "      <td>8256.0</td>\n",
       "      <td>864</td>\n",
       "      <td>7392.0</td>\n",
       "      <td>1.541</td>\n",
       "      <td>...</td>\n",
       "      <td>0</td>\n",
       "      <td>0</td>\n",
       "      <td>0</td>\n",
       "      <td>0</td>\n",
       "      <td>1</td>\n",
       "      <td>0</td>\n",
       "      <td>1</td>\n",
       "      <td>0</td>\n",
       "      <td>0</td>\n",
       "      <td>0</td>\n",
       "    </tr>\n",
       "    <tr>\n",
       "      <th>2</th>\n",
       "      <td>49</td>\n",
       "      <td>5</td>\n",
       "      <td>44</td>\n",
       "      <td>6</td>\n",
       "      <td>1</td>\n",
       "      <td>2</td>\n",
       "      <td>8256.0</td>\n",
       "      <td>864</td>\n",
       "      <td>7392.0</td>\n",
       "      <td>1.541</td>\n",
       "      <td>...</td>\n",
       "      <td>0</td>\n",
       "      <td>0</td>\n",
       "      <td>0</td>\n",
       "      <td>0</td>\n",
       "      <td>1</td>\n",
       "      <td>0</td>\n",
       "      <td>1</td>\n",
       "      <td>0</td>\n",
       "      <td>0</td>\n",
       "      <td>0</td>\n",
       "    </tr>\n",
       "    <tr>\n",
       "      <th>3</th>\n",
       "      <td>49</td>\n",
       "      <td>5</td>\n",
       "      <td>44</td>\n",
       "      <td>6</td>\n",
       "      <td>1</td>\n",
       "      <td>2</td>\n",
       "      <td>8256.0</td>\n",
       "      <td>864</td>\n",
       "      <td>7392.0</td>\n",
       "      <td>1.541</td>\n",
       "      <td>...</td>\n",
       "      <td>0</td>\n",
       "      <td>0</td>\n",
       "      <td>0</td>\n",
       "      <td>0</td>\n",
       "      <td>1</td>\n",
       "      <td>0</td>\n",
       "      <td>1</td>\n",
       "      <td>0</td>\n",
       "      <td>0</td>\n",
       "      <td>0</td>\n",
       "    </tr>\n",
       "    <tr>\n",
       "      <th>4</th>\n",
       "      <td>51</td>\n",
       "      <td>3</td>\n",
       "      <td>36</td>\n",
       "      <td>4</td>\n",
       "      <td>1</td>\n",
       "      <td>0</td>\n",
       "      <td>3418.0</td>\n",
       "      <td>0</td>\n",
       "      <td>3418.0</td>\n",
       "      <td>2.594</td>\n",
       "      <td>...</td>\n",
       "      <td>0</td>\n",
       "      <td>0</td>\n",
       "      <td>0</td>\n",
       "      <td>1</td>\n",
       "      <td>0</td>\n",
       "      <td>0</td>\n",
       "      <td>1</td>\n",
       "      <td>0</td>\n",
       "      <td>0</td>\n",
       "      <td>0</td>\n",
       "    </tr>\n",
       "  </tbody>\n",
       "</table>\n",
       "<p>5 rows × 38 columns</p>\n",
       "</div>"
      ],
      "text/plain": [
       "   customer_age  dependent_count  months_on_book  total_relationship_count  \\\n",
       "0            45                3              39                         5   \n",
       "1            49                5              44                         6   \n",
       "2            49                5              44                         6   \n",
       "3            49                5              44                         6   \n",
       "4            51                3              36                         4   \n",
       "\n",
       "   months_inactive_12_mon  contacts_count_12_mon  credit_limit  \\\n",
       "0                       1                      3       12691.0   \n",
       "1                       1                      2        8256.0   \n",
       "2                       1                      2        8256.0   \n",
       "3                       1                      2        8256.0   \n",
       "4                       1                      0        3418.0   \n",
       "\n",
       "   total_revolving_bal  avg_open_to_buy  total_amt_chng_q4_q1  ...  \\\n",
       "0                  777          11914.0                 1.335  ...   \n",
       "1                  864           7392.0                 1.541  ...   \n",
       "2                  864           7392.0                 1.541  ...   \n",
       "3                  864           7392.0                 1.541  ...   \n",
       "4                    0           3418.0                 2.594  ...   \n",
       "\n",
       "   income_category_$120K +                                             \\\n",
       "0                                                  0                    \n",
       "1                                                  0                    \n",
       "2                                                  0                    \n",
       "3                                                  0                    \n",
       "4                                                  0                    \n",
       "\n",
       "   income_category_$40K - $60K                                         \\\n",
       "0                                                  0                    \n",
       "1                                                  0                    \n",
       "2                                                  0                    \n",
       "3                                                  0                    \n",
       "4                                                  0                    \n",
       "\n",
       "   income_category_$60K - $80K                                         \\\n",
       "0                                                  1                    \n",
       "1                                                  0                    \n",
       "2                                                  0                    \n",
       "3                                                  0                    \n",
       "4                                                  0                    \n",
       "\n",
       "   income_category_$80K - $120K                                        \\\n",
       "0                                                  0                    \n",
       "1                                                  0                    \n",
       "2                                                  0                    \n",
       "3                                                  0                    \n",
       "4                                                  1                    \n",
       "\n",
       "   income_category_Less than $40K                                      \\\n",
       "0                                                  0                    \n",
       "1                                                  1                    \n",
       "2                                                  1                    \n",
       "3                                                  1                    \n",
       "4                                                  0                    \n",
       "\n",
       "   income_category_Unknown                                             \\\n",
       "0                                                  0                    \n",
       "1                                                  0                    \n",
       "2                                                  0                    \n",
       "3                                                  0                    \n",
       "4                                                  0                    \n",
       "\n",
       "   card_category_Blue                                                \\\n",
       "0                                                  1                  \n",
       "1                                                  1                  \n",
       "2                                                  1                  \n",
       "3                                                  1                  \n",
       "4                                                  1                  \n",
       "\n",
       "   card_category_Gold                                                \\\n",
       "0                                                  0                  \n",
       "1                                                  0                  \n",
       "2                                                  0                  \n",
       "3                                                  0                  \n",
       "4                                                  0                  \n",
       "\n",
       "   card_category_Platinum                                            \\\n",
       "0                                                  0                  \n",
       "1                                                  0                  \n",
       "2                                                  0                  \n",
       "3                                                  0                  \n",
       "4                                                  0                  \n",
       "\n",
       "   card_category_Silver                                              \n",
       "0                                                  0                 \n",
       "1                                                  0                 \n",
       "2                                                  0                 \n",
       "3                                                  0                 \n",
       "4                                                  0                 \n",
       "\n",
       "[5 rows x 38 columns]"
      ]
     },
     "execution_count": 29,
     "metadata": {},
     "output_type": "execute_result"
    }
   ],
   "source": [
    "# Encode categorical features (object types) as a one-hot numeric array \n",
    "\n",
    "# Get dummies \n",
    "\n",
    "X = pd.get_dummies(data =X, columns=categorical)\n",
    "\n",
    "X.head()"
   ]
  },
  {
   "cell_type": "code",
   "execution_count": 67,
   "id": "b1ca63e3",
   "metadata": {},
   "outputs": [],
   "source": [
    "# Split train-test with Stratification\n",
    "\n",
    "from sklearn.model_selection import train_test_split\n",
    "\n",
    "X_train, X_test, y_train, y_test = train_test_split(X,y, stratify=y, random_state=18)"
   ]
  },
  {
   "cell_type": "markdown",
   "id": "0be4981e",
   "metadata": {},
   "source": [
    "## Logistic Regression"
   ]
  },
  {
   "cell_type": "code",
   "execution_count": 68,
   "id": "0f59b7f2",
   "metadata": {},
   "outputs": [
    {
     "name": "stderr",
     "output_type": "stream",
     "text": [
      "/Users/albertoaigner/opt/anaconda3/envs/mlenv/lib/python3.7/site-packages/sklearn/utils/validation.py:993: DataConversionWarning: A column-vector y was passed when a 1d array was expected. Please change the shape of y to (n_samples, ), for example using ravel().\n",
      "  y = column_or_1d(y, warn=True)\n",
      "/Users/albertoaigner/opt/anaconda3/envs/mlenv/lib/python3.7/site-packages/sklearn/linear_model/_logistic.py:818: ConvergenceWarning: lbfgs failed to converge (status=1):\n",
      "STOP: TOTAL NO. of ITERATIONS REACHED LIMIT.\n",
      "\n",
      "Increase the number of iterations (max_iter) or scale the data as shown in:\n",
      "    https://scikit-learn.org/stable/modules/preprocessing.html\n",
      "Please also refer to the documentation for alternative solver options:\n",
      "    https://scikit-learn.org/stable/modules/linear_model.html#logistic-regression\n",
      "  extra_warning_msg=_LOGISTIC_SOLVER_CONVERGENCE_MSG,\n"
     ]
    },
    {
     "data": {
      "text/plain": [
       "LogisticRegression(random_state=18)"
      ]
     },
     "execution_count": 68,
     "metadata": {},
     "output_type": "execute_result"
    }
   ],
   "source": [
    "# Train the Logistic Regression model \n",
    "\n",
    "from sklearn.linear_model import LogisticRegression\n",
    "\n",
    "model = LogisticRegression(solver='lbfgs', random_state=18)\n",
    "\n",
    "model.fit(X_train,y_train)"
   ]
  },
  {
   "cell_type": "code",
   "execution_count": 69,
   "id": "e45e78bc",
   "metadata": {},
   "outputs": [
    {
     "data": {
      "text/plain": [
       "0.6093181503495745"
      ]
     },
     "execution_count": 69,
     "metadata": {},
     "output_type": "execute_result"
    }
   ],
   "source": [
    "# Calculate the balanced accuracy score\n",
    "\n",
    "from sklearn.metrics import balanced_accuracy_score\n",
    "\n",
    "y_pred = model.predict(X_test)\n",
    "\n",
    "balanced_accuracy_score(y_test,y_pred)"
   ]
  },
  {
   "cell_type": "code",
   "execution_count": 70,
   "id": "8edd4364",
   "metadata": {},
   "outputs": [
    {
     "data": {
      "text/plain": [
       "array([[ 168,  508],\n",
       "       [ 106, 3441]])"
      ]
     },
     "execution_count": 70,
     "metadata": {},
     "output_type": "execute_result"
    }
   ],
   "source": [
    "# Display the confusion matrix\n",
    "\n",
    "from sklearn.metrics import confusion_matrix\n",
    "\n",
    "confusion_matrix(y_test,y_pred)"
   ]
  },
  {
   "cell_type": "code",
   "execution_count": 71,
   "id": "2213e669",
   "metadata": {},
   "outputs": [
    {
     "name": "stdout",
     "output_type": "stream",
     "text": [
      "                         pre       rec       spe        f1       geo       iba       sup\n",
      "\n",
      "Attrited Customer       0.61      0.25      0.97      0.35      0.49      0.22       676\n",
      "Existing Customer       0.87      0.97      0.25      0.92      0.49      0.26      3547\n",
      "\n",
      "      avg / total       0.83      0.85      0.36      0.83      0.49      0.25      4223\n",
      "\n"
     ]
    }
   ],
   "source": [
    "# Print the imbalanced classification report\n",
    "\n",
    "from imblearn.metrics import classification_report_imbalanced\n",
    "\n",
    "print(classification_report_imbalanced(y_test,y_pred))"
   ]
  },
  {
   "cell_type": "markdown",
   "id": "6079b843",
   "metadata": {},
   "source": [
    "# Boosting Algorithm\n",
    "\n",
    "Bag of balanced boosted learners also known as EasyEnsemble."
   ]
  },
  {
   "cell_type": "code",
   "execution_count": 72,
   "id": "956b2618",
   "metadata": {},
   "outputs": [
    {
     "name": "stderr",
     "output_type": "stream",
     "text": [
      "/Users/albertoaigner/opt/anaconda3/envs/mlenv/lib/python3.7/site-packages/sklearn/ensemble/_bagging.py:719: DataConversionWarning: A column-vector y was passed when a 1d array was expected. Please change the shape of y to (n_samples, ), for example using ravel().\n",
      "  y = column_or_1d(y, warn=True)\n"
     ]
    },
    {
     "data": {
      "text/plain": [
       "EasyEnsembleClassifier(n_estimators=50, random_state=18)"
      ]
     },
     "execution_count": 72,
     "metadata": {},
     "output_type": "execute_result"
    }
   ],
   "source": [
    "# Train the EasyEnsembleClassifier\n",
    "\n",
    "from imblearn.ensemble import EasyEnsembleClassifier\n",
    "\n",
    "emodel = EasyEnsembleClassifier(n_estimators=50, random_state=18)\n",
    "\n",
    "emodel.fit(X_train,y_train)"
   ]
  },
  {
   "cell_type": "code",
   "execution_count": 73,
   "id": "d749496d",
   "metadata": {},
   "outputs": [
    {
     "data": {
      "text/plain": [
       "0.9443689808705749"
      ]
     },
     "execution_count": 73,
     "metadata": {},
     "output_type": "execute_result"
    }
   ],
   "source": [
    "# Calculated the balanced accuracy score\n",
    "\n",
    "y_pred = emodel.predict(X_test)\n",
    "\n",
    "balanced_accuracy_score(y_test,y_pred)"
   ]
  },
  {
   "cell_type": "code",
   "execution_count": 74,
   "id": "f900578b",
   "metadata": {},
   "outputs": [
    {
     "data": {
      "text/plain": [
       "array([[ 641,   35],\n",
       "       [ 211, 3336]])"
      ]
     },
     "execution_count": 74,
     "metadata": {},
     "output_type": "execute_result"
    }
   ],
   "source": [
    "# Display the confusion matrix\n",
    "\n",
    "confusion_matrix(y_test,y_pred)"
   ]
  },
  {
   "cell_type": "code",
   "execution_count": 75,
   "id": "625551e4",
   "metadata": {},
   "outputs": [
    {
     "name": "stdout",
     "output_type": "stream",
     "text": [
      "                         pre       rec       spe        f1       geo       iba       sup\n",
      "\n",
      "Attrited Customer       0.75      0.95      0.94      0.84      0.94      0.89       676\n",
      "Existing Customer       0.99      0.94      0.95      0.96      0.94      0.89      3547\n",
      "\n",
      "      avg / total       0.95      0.94      0.95      0.94      0.94      0.89      4223\n",
      "\n"
     ]
    }
   ],
   "source": [
    "# Print the imbalanced classification report\n",
    "\n",
    "print(classification_report_imbalanced(y_test,y_pred))"
   ]
  },
  {
   "cell_type": "markdown",
   "id": "c08ad185",
   "metadata": {},
   "source": [
    "# Bagging Algorithm\n",
    "\n",
    "A balanced random forest classifier."
   ]
  },
  {
   "cell_type": "code",
   "execution_count": 76,
   "id": "db61d647",
   "metadata": {},
   "outputs": [
    {
     "name": "stderr",
     "output_type": "stream",
     "text": [
      "/Users/albertoaigner/opt/anaconda3/envs/mlenv/lib/python3.7/site-packages/ipykernel_launcher.py:7: DataConversionWarning: A column-vector y was passed when a 1d array was expected. Please change the shape of y to (n_samples,), for example using ravel().\n",
      "  import sys\n"
     ]
    },
    {
     "data": {
      "text/plain": [
       "BalancedRandomForestClassifier(random_state=18)"
      ]
     },
     "execution_count": 76,
     "metadata": {},
     "output_type": "execute_result"
    }
   ],
   "source": [
    "# Resample the training data with the BalancedRandomForestClassifier\n",
    "\n",
    "from imblearn.ensemble import BalancedRandomForestClassifier \n",
    "\n",
    "rmodel = BalancedRandomForestClassifier(random_state=18)\n",
    "\n",
    "rmodel.fit(X_train,y_train)"
   ]
  },
  {
   "cell_type": "code",
   "execution_count": 77,
   "id": "06f92aa5",
   "metadata": {},
   "outputs": [
    {
     "data": {
      "text/plain": [
       "0.971493745026633"
      ]
     },
     "execution_count": 77,
     "metadata": {},
     "output_type": "execute_result"
    }
   ],
   "source": [
    "# Calculated the balanced accuracy score\n",
    "\n",
    "y_pred = rmodel.predict(X_test)\n",
    "\n",
    "balanced_accuracy_score(y_test,y_pred)"
   ]
  },
  {
   "cell_type": "code",
   "execution_count": 78,
   "id": "6a733d18",
   "metadata": {},
   "outputs": [
    {
     "data": {
      "text/plain": [
       "array([[ 667,    9],\n",
       "       [ 155, 3392]])"
      ]
     },
     "execution_count": 78,
     "metadata": {},
     "output_type": "execute_result"
    }
   ],
   "source": [
    "# Display the confusion matrix\n",
    "\n",
    "confusion_matrix(y_test,y_pred)"
   ]
  },
  {
   "cell_type": "code",
   "execution_count": 79,
   "id": "859082d0",
   "metadata": {},
   "outputs": [
    {
     "name": "stdout",
     "output_type": "stream",
     "text": [
      "                         pre       rec       spe        f1       geo       iba       sup\n",
      "\n",
      "Attrited Customer       0.81      0.99      0.96      0.89      0.97      0.95       676\n",
      "Existing Customer       1.00      0.96      0.99      0.98      0.97      0.94      3547\n",
      "\n",
      "      avg / total       0.97      0.96      0.98      0.96      0.97      0.94      4223\n",
      "\n"
     ]
    }
   ],
   "source": [
    "# Print the imbalanced classification report\n",
    "\n",
    "print(classification_report_imbalanced(y_test,y_pred))"
   ]
  },
  {
   "cell_type": "code",
   "execution_count": 81,
   "id": "70e4e681",
   "metadata": {},
   "outputs": [
    {
     "data": {
      "text/plain": [
       "[(0.20226453780520584, 'total_trans_ct'),\n",
       " (0.17537330595627235, 'total_trans_amt'),\n",
       " (0.11918319958011743, 'total_revolving_bal'),\n",
       " (0.08693640879160756, 'total_ct_chng_q4_q1'),\n",
       " (0.06061446088597262, 'total_amt_chng_q4_q1'),\n",
       " (0.058928931705023106, 'avg_utilization_ratio'),\n",
       " (0.04450067212270005, 'total_relationship_count'),\n",
       " (0.03204209260592183, 'avg_open_to_buy'),\n",
       " (0.03179934705130955, 'credit_limit'),\n",
       " (0.027440179500341173, 'customer_age'),\n",
       " (0.02652177918468796, 'contacts_count_12_mon'),\n",
       " (0.025463534363409472, 'months_inactive_12_mon'),\n",
       " (0.024757086739955626, 'months_on_book'),\n",
       " (0.012992750873485741, 'dependent_count'),\n",
       " (0.0067925192357183445, 'Weekly_median_earnings'),\n",
       " (0.006747657502712946, 'Yearly_median_earnings'),\n",
       " (0.005785969538032246,\n",
       "  'gender_F                                                 '),\n",
       " (0.005513951631453769,\n",
       "  'gender_M                                                 '),\n",
       " (0.005246286617669329,\n",
       "  'marital_status_Married                                           '),\n",
       " (0.004900415965032788,\n",
       "  'marital_status_Single                                            '),\n",
       " (0.0032249544459398453,\n",
       "  'income_category_$80K - $120K                                      '),\n",
       " (0.0032088223233543403,\n",
       "  'income_category_Less than $40K                                    '),\n",
       " (0.0029366643876491466,\n",
       "  'education_level_Unknown                                           '),\n",
       " (0.002781392326524772,\n",
       "  'income_category_$40K - $60K                                       '),\n",
       " (0.002780190762615528,\n",
       "  'income_category_$60K - $80K                                       '),\n",
       " (0.0027572423974299926,\n",
       "  'education_level_Graduate                                          '),\n",
       " (0.002092649359241911,\n",
       "  'education_level_Uneducated                                        '),\n",
       " (0.002005133221552122,\n",
       "  'income_category_Unknown                                           '),\n",
       " (0.0019902003238216454,\n",
       "  'card_category_Blue                                              '),\n",
       " (0.001980957747831634,\n",
       "  'education_level_High School                                       '),\n",
       " (0.0018978456203902927,\n",
       "  'income_category_$120K +                                           '),\n",
       " (0.0016886043899579511,\n",
       "  'marital_status_Unknown                                           '),\n",
       " (0.0016335142523632013,\n",
       "  'card_category_Silver                                            '),\n",
       " (0.0014139613761342412,\n",
       "  'marital_status_Divorced                                          '),\n",
       " (0.0013373361965529603,\n",
       "  'education_level_Doctorate                                         '),\n",
       " (0.001197757631470915,\n",
       "  'education_level_Post-Graduate                                     '),\n",
       " (0.0010468125578944434,\n",
       "  'card_category_Gold                                              '),\n",
       " (0.0002208730226454129,\n",
       "  'card_category_Platinum                                          ')]"
      ]
     },
     "execution_count": 81,
     "metadata": {},
     "output_type": "execute_result"
    }
   ],
   "source": [
    "# List the features sorted in descending order by feature importance\n",
    "\n",
    "sorted(zip(rmodel.feature_importances_,X.columns), reverse=True)"
   ]
  },
  {
   "cell_type": "markdown",
   "id": "931e78b9",
   "metadata": {},
   "source": [
    "## Reducing features for model \n",
    "Noticing that categorical values are not strongly influencing the model, neither the values for median salaries.\n",
    "They will be put aside and just consider the other numerical variables."
   ]
  },
  {
   "cell_type": "code",
   "execution_count": 150,
   "id": "1289e179",
   "metadata": {},
   "outputs": [],
   "source": [
    "# Selecting features for new model \n",
    "\n",
    "important_features = ['total_trans_ct','total_trans_amt','total_revolving_bal','total_ct_chng_q4_q1',\\\n",
    "                      'total_amt_chng_q4_q1',\\\n",
    "'avg_utilization_ratio','total_relationship_count','avg_open_to_buy','credit_limit','customer_age',\\\n",
    "'contacts_count_12_mon','months_inactive_12_mon','months_on_book','dependent_count']"
   ]
  },
  {
   "cell_type": "code",
   "execution_count": 151,
   "id": "4b8f6027",
   "metadata": {},
   "outputs": [
    {
     "name": "stderr",
     "output_type": "stream",
     "text": [
      "/Users/albertoaigner/opt/anaconda3/envs/mlenv/lib/python3.7/site-packages/ipykernel_launcher.py:5: SettingWithCopyWarning: \n",
      "A value is trying to be set on a copy of a slice from a DataFrame.\n",
      "Try using .loc[row_indexer,col_indexer] = value instead\n",
      "\n",
      "See the caveats in the documentation: https://pandas.pydata.org/pandas-docs/stable/user_guide/indexing.html#returning-a-view-versus-a-copy\n",
      "  \"\"\"\n"
     ]
    }
   ],
   "source": [
    "# Creating new target and features \n",
    "\n",
    "new_y = new_df[['attrition_flag']]\n",
    "\n",
    "new_y['attrition_flag'] = new_y['attrition_flag'].map(str.strip)\n",
    "\n",
    "new_X = new_df[['total_trans_ct','total_trans_amt','total_revolving_bal','total_ct_chng_q4_q1',\\\n",
    "                      'total_amt_chng_q4_q1',\\\n",
    "'avg_utilization_ratio','total_relationship_count','avg_open_to_buy','credit_limit','customer_age',\\\n",
    "'contacts_count_12_mon','months_inactive_12_mon','months_on_book','dependent_count']]"
   ]
  },
  {
   "cell_type": "code",
   "execution_count": 155,
   "id": "ad84541d",
   "metadata": {},
   "outputs": [],
   "source": [
    "# Splitting training and test data \n",
    "\n",
    "new_X_train, new_X_test, new_y_train, new_y_test = train_test_split(new_X,new_y, stratify=new_y, random_state=18)"
   ]
  },
  {
   "cell_type": "code",
   "execution_count": 156,
   "id": "b58c574c",
   "metadata": {},
   "outputs": [
    {
     "name": "stderr",
     "output_type": "stream",
     "text": [
      "/Users/albertoaigner/opt/anaconda3/envs/mlenv/lib/python3.7/site-packages/ipykernel_launcher.py:5: DataConversionWarning: A column-vector y was passed when a 1d array was expected. Please change the shape of y to (n_samples,), for example using ravel().\n",
      "  \"\"\"\n"
     ]
    },
    {
     "data": {
      "text/plain": [
       "BalancedRandomForestClassifier(random_state=18)"
      ]
     },
     "execution_count": 156,
     "metadata": {},
     "output_type": "execute_result"
    }
   ],
   "source": [
    "# Creating a new instance for model selected \n",
    "\n",
    "new_rmodel = BalancedRandomForestClassifier(random_state=18)\n",
    "\n",
    "new_rmodel.fit(new_X_train,new_y_train)"
   ]
  },
  {
   "cell_type": "code",
   "execution_count": 157,
   "id": "a3e9f088",
   "metadata": {},
   "outputs": [
    {
     "data": {
      "text/plain": [
       "0.9697325266956158"
      ]
     },
     "execution_count": 157,
     "metadata": {},
     "output_type": "execute_result"
    }
   ],
   "source": [
    "# Calculated the balanced accuracy score\n",
    "\n",
    "new_y_pred = new_rmodel.predict(new_X_test)\n",
    "\n",
    "balanced_accuracy_score(new_y_test,new_y_pred)"
   ]
  },
  {
   "cell_type": "code",
   "execution_count": 158,
   "id": "115bef89",
   "metadata": {},
   "outputs": [
    {
     "data": {
      "text/plain": [
       "array([[ 665,   11],\n",
       "       [ 157, 3390]])"
      ]
     },
     "execution_count": 158,
     "metadata": {},
     "output_type": "execute_result"
    }
   ],
   "source": [
    "# Display the confusion matrix\n",
    "\n",
    "confusion_matrix(new_y_test,new_y_pred)"
   ]
  },
  {
   "cell_type": "code",
   "execution_count": 160,
   "id": "86e6a7a9",
   "metadata": {},
   "outputs": [
    {
     "name": "stdout",
     "output_type": "stream",
     "text": [
      "                         pre       rec       spe        f1       geo       iba       sup\n",
      "\n",
      "Attrited Customer       0.81      0.98      0.96      0.89      0.97      0.94       676\n",
      "Existing Customer       1.00      0.96      0.98      0.98      0.97      0.94      3547\n",
      "\n",
      "      avg / total       0.97      0.96      0.98      0.96      0.97      0.94      4223\n",
      "\n"
     ]
    }
   ],
   "source": [
    "# Print the imbalanced classification report\n",
    "\n",
    "print(classification_report_imbalanced(new_y_test,new_y_pred))"
   ]
  },
  {
   "cell_type": "code",
   "execution_count": 161,
   "id": "07bde7ba",
   "metadata": {},
   "outputs": [
    {
     "data": {
      "text/plain": [
       "['new_rmodel.joblib']"
      ]
     },
     "execution_count": 161,
     "metadata": {},
     "output_type": "execute_result"
    }
   ],
   "source": [
    "# Saving machine learning model file\n",
    "\n",
    "from joblib import dump\n",
    "\n",
    "dump(new_rmodel, 'new_rmodel.joblib')"
   ]
  },
  {
   "cell_type": "code",
   "execution_count": 191,
   "id": "47136531",
   "metadata": {},
   "outputs": [],
   "source": [
    "import pickle\n",
    "\n",
    "pickle.dump(new_rmodel, open('model.pkl','wb'))"
   ]
  },
  {
   "cell_type": "code",
   "execution_count": null,
   "id": "f6581f73",
   "metadata": {},
   "outputs": [],
   "source": []
  }
 ],
 "metadata": {
  "kernelspec": {
   "display_name": "mlenv",
   "language": "python",
   "name": "mlenv"
  },
  "language_info": {
   "codemirror_mode": {
    "name": "ipython",
    "version": 3
   },
   "file_extension": ".py",
   "mimetype": "text/x-python",
   "name": "python",
   "nbconvert_exporter": "python",
   "pygments_lexer": "ipython3",
   "version": "3.7.13"
  }
 },
 "nbformat": 4,
 "nbformat_minor": 5
}
