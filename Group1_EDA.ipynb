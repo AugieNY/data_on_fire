{
  "nbformat": 4,
  "nbformat_minor": 0,
  "metadata": {
    "colab": {
      "provenance": []
    },
    "kernelspec": {
      "name": "python3",
      "display_name": "Python 3"
    },
    "language_info": {
      "name": "python"
    }
  },
  "cells": [
    {
      "cell_type": "code",
      "execution_count": 2,
      "metadata": {
        "id": "56sCba-hpRTt"
      },
      "outputs": [],
      "source": [
        "# Import dependencies\n",
        "import pandas as pd\n",
        "import numpy as np\n",
        "from google.colab import files\n",
        "import io"
      ]
    },
    {
      "cell_type": "code",
      "source": [
        "# Upload csv file\n",
        "uploaded = files.upload()"
      ],
      "metadata": {
        "colab": {
          "base_uri": "https://localhost:8080/",
          "height": 73
        },
        "id": "UJ8F8SNMsoIa",
        "outputId": "d9652fd6-f152-4c36-ce39-f1fe75160a03"
      },
      "execution_count": 3,
      "outputs": [
        {
          "output_type": "display_data",
          "data": {
            "text/plain": [
              "<IPython.core.display.HTML object>"
            ],
            "text/html": [
              "\n",
              "     <input type=\"file\" id=\"files-3d70a293-71d8-4f0f-8c8b-1d23b0370d09\" name=\"files[]\" multiple disabled\n",
              "        style=\"border:none\" />\n",
              "     <output id=\"result-3d70a293-71d8-4f0f-8c8b-1d23b0370d09\">\n",
              "      Upload widget is only available when the cell has been executed in the\n",
              "      current browser session. Please rerun this cell to enable.\n",
              "      </output>\n",
              "      <script>// Copyright 2017 Google LLC\n",
              "//\n",
              "// Licensed under the Apache License, Version 2.0 (the \"License\");\n",
              "// you may not use this file except in compliance with the License.\n",
              "// You may obtain a copy of the License at\n",
              "//\n",
              "//      http://www.apache.org/licenses/LICENSE-2.0\n",
              "//\n",
              "// Unless required by applicable law or agreed to in writing, software\n",
              "// distributed under the License is distributed on an \"AS IS\" BASIS,\n",
              "// WITHOUT WARRANTIES OR CONDITIONS OF ANY KIND, either express or implied.\n",
              "// See the License for the specific language governing permissions and\n",
              "// limitations under the License.\n",
              "\n",
              "/**\n",
              " * @fileoverview Helpers for google.colab Python module.\n",
              " */\n",
              "(function(scope) {\n",
              "function span(text, styleAttributes = {}) {\n",
              "  const element = document.createElement('span');\n",
              "  element.textContent = text;\n",
              "  for (const key of Object.keys(styleAttributes)) {\n",
              "    element.style[key] = styleAttributes[key];\n",
              "  }\n",
              "  return element;\n",
              "}\n",
              "\n",
              "// Max number of bytes which will be uploaded at a time.\n",
              "const MAX_PAYLOAD_SIZE = 100 * 1024;\n",
              "\n",
              "function _uploadFiles(inputId, outputId) {\n",
              "  const steps = uploadFilesStep(inputId, outputId);\n",
              "  const outputElement = document.getElementById(outputId);\n",
              "  // Cache steps on the outputElement to make it available for the next call\n",
              "  // to uploadFilesContinue from Python.\n",
              "  outputElement.steps = steps;\n",
              "\n",
              "  return _uploadFilesContinue(outputId);\n",
              "}\n",
              "\n",
              "// This is roughly an async generator (not supported in the browser yet),\n",
              "// where there are multiple asynchronous steps and the Python side is going\n",
              "// to poll for completion of each step.\n",
              "// This uses a Promise to block the python side on completion of each step,\n",
              "// then passes the result of the previous step as the input to the next step.\n",
              "function _uploadFilesContinue(outputId) {\n",
              "  const outputElement = document.getElementById(outputId);\n",
              "  const steps = outputElement.steps;\n",
              "\n",
              "  const next = steps.next(outputElement.lastPromiseValue);\n",
              "  return Promise.resolve(next.value.promise).then((value) => {\n",
              "    // Cache the last promise value to make it available to the next\n",
              "    // step of the generator.\n",
              "    outputElement.lastPromiseValue = value;\n",
              "    return next.value.response;\n",
              "  });\n",
              "}\n",
              "\n",
              "/**\n",
              " * Generator function which is called between each async step of the upload\n",
              " * process.\n",
              " * @param {string} inputId Element ID of the input file picker element.\n",
              " * @param {string} outputId Element ID of the output display.\n",
              " * @return {!Iterable<!Object>} Iterable of next steps.\n",
              " */\n",
              "function* uploadFilesStep(inputId, outputId) {\n",
              "  const inputElement = document.getElementById(inputId);\n",
              "  inputElement.disabled = false;\n",
              "\n",
              "  const outputElement = document.getElementById(outputId);\n",
              "  outputElement.innerHTML = '';\n",
              "\n",
              "  const pickedPromise = new Promise((resolve) => {\n",
              "    inputElement.addEventListener('change', (e) => {\n",
              "      resolve(e.target.files);\n",
              "    });\n",
              "  });\n",
              "\n",
              "  const cancel = document.createElement('button');\n",
              "  inputElement.parentElement.appendChild(cancel);\n",
              "  cancel.textContent = 'Cancel upload';\n",
              "  const cancelPromise = new Promise((resolve) => {\n",
              "    cancel.onclick = () => {\n",
              "      resolve(null);\n",
              "    };\n",
              "  });\n",
              "\n",
              "  // Wait for the user to pick the files.\n",
              "  const files = yield {\n",
              "    promise: Promise.race([pickedPromise, cancelPromise]),\n",
              "    response: {\n",
              "      action: 'starting',\n",
              "    }\n",
              "  };\n",
              "\n",
              "  cancel.remove();\n",
              "\n",
              "  // Disable the input element since further picks are not allowed.\n",
              "  inputElement.disabled = true;\n",
              "\n",
              "  if (!files) {\n",
              "    return {\n",
              "      response: {\n",
              "        action: 'complete',\n",
              "      }\n",
              "    };\n",
              "  }\n",
              "\n",
              "  for (const file of files) {\n",
              "    const li = document.createElement('li');\n",
              "    li.append(span(file.name, {fontWeight: 'bold'}));\n",
              "    li.append(span(\n",
              "        `(${file.type || 'n/a'}) - ${file.size} bytes, ` +\n",
              "        `last modified: ${\n",
              "            file.lastModifiedDate ? file.lastModifiedDate.toLocaleDateString() :\n",
              "                                    'n/a'} - `));\n",
              "    const percent = span('0% done');\n",
              "    li.appendChild(percent);\n",
              "\n",
              "    outputElement.appendChild(li);\n",
              "\n",
              "    const fileDataPromise = new Promise((resolve) => {\n",
              "      const reader = new FileReader();\n",
              "      reader.onload = (e) => {\n",
              "        resolve(e.target.result);\n",
              "      };\n",
              "      reader.readAsArrayBuffer(file);\n",
              "    });\n",
              "    // Wait for the data to be ready.\n",
              "    let fileData = yield {\n",
              "      promise: fileDataPromise,\n",
              "      response: {\n",
              "        action: 'continue',\n",
              "      }\n",
              "    };\n",
              "\n",
              "    // Use a chunked sending to avoid message size limits. See b/62115660.\n",
              "    let position = 0;\n",
              "    do {\n",
              "      const length = Math.min(fileData.byteLength - position, MAX_PAYLOAD_SIZE);\n",
              "      const chunk = new Uint8Array(fileData, position, length);\n",
              "      position += length;\n",
              "\n",
              "      const base64 = btoa(String.fromCharCode.apply(null, chunk));\n",
              "      yield {\n",
              "        response: {\n",
              "          action: 'append',\n",
              "          file: file.name,\n",
              "          data: base64,\n",
              "        },\n",
              "      };\n",
              "\n",
              "      let percentDone = fileData.byteLength === 0 ?\n",
              "          100 :\n",
              "          Math.round((position / fileData.byteLength) * 100);\n",
              "      percent.textContent = `${percentDone}% done`;\n",
              "\n",
              "    } while (position < fileData.byteLength);\n",
              "  }\n",
              "\n",
              "  // All done.\n",
              "  yield {\n",
              "    response: {\n",
              "      action: 'complete',\n",
              "    }\n",
              "  };\n",
              "}\n",
              "\n",
              "scope.google = scope.google || {};\n",
              "scope.google.colab = scope.google.colab || {};\n",
              "scope.google.colab._files = {\n",
              "  _uploadFiles,\n",
              "  _uploadFilesContinue,\n",
              "};\n",
              "})(self);\n",
              "</script> "
            ]
          },
          "metadata": {}
        },
        {
          "output_type": "stream",
          "name": "stdout",
          "text": [
            "Saving BankChurners.csv to BankChurners.csv\n"
          ]
        }
      ]
    },
    {
      "cell_type": "code",
      "source": [
        "# Create DataFrame from csv file\n",
        "df = pd.read_csv(io.BytesIO(uploaded['BankChurners.csv']))\n",
        "df.head()"
      ],
      "metadata": {
        "colab": {
          "base_uri": "https://localhost:8080/",
          "height": 300
        },
        "id": "SYyECNUjqC7k",
        "outputId": "c0920ff7-c6ab-4380-fbd8-5cbdcbd864a1"
      },
      "execution_count": 48,
      "outputs": [
        {
          "output_type": "execute_result",
          "data": {
            "text/plain": [
              "   CLIENTNUM     Attrition_Flag  Customer_Age Gender  Dependent_count  \\\n",
              "0  768805383  Existing Customer            45      M                3   \n",
              "1  818770008  Existing Customer            49      F                5   \n",
              "2  713982108  Existing Customer            51      M                3   \n",
              "3  769911858  Existing Customer            40      F                4   \n",
              "4  709106358  Existing Customer            40      M                3   \n",
              "\n",
              "  Education_Level Marital_Status Income_Category Card_Category  \\\n",
              "0     High School        Married     $60K - $80K          Blue   \n",
              "1        Graduate         Single  Less than $40K          Blue   \n",
              "2        Graduate        Married    $80K - $120K          Blue   \n",
              "3     High School        Unknown  Less than $40K          Blue   \n",
              "4      Uneducated        Married     $60K - $80K          Blue   \n",
              "\n",
              "   Months_on_book  ...  Credit_Limit  Total_Revolving_Bal  Avg_Open_To_Buy  \\\n",
              "0              39  ...       12691.0                  777          11914.0   \n",
              "1              44  ...        8256.0                  864           7392.0   \n",
              "2              36  ...        3418.0                    0           3418.0   \n",
              "3              34  ...        3313.0                 2517            796.0   \n",
              "4              21  ...        4716.0                    0           4716.0   \n",
              "\n",
              "   Total_Amt_Chng_Q4_Q1  Total_Trans_Amt  Total_Trans_Ct  Total_Ct_Chng_Q4_Q1  \\\n",
              "0                 1.335             1144              42                1.625   \n",
              "1                 1.541             1291              33                3.714   \n",
              "2                 2.594             1887              20                2.333   \n",
              "3                 1.405             1171              20                2.333   \n",
              "4                 2.175              816              28                2.500   \n",
              "\n",
              "   Avg_Utilization_Ratio  \\\n",
              "0                  0.061   \n",
              "1                  0.105   \n",
              "2                  0.000   \n",
              "3                  0.760   \n",
              "4                  0.000   \n",
              "\n",
              "   Naive_Bayes_Classifier_Attrition_Flag_Card_Category_Contacts_Count_12_mon_Dependent_count_Education_Level_Months_Inactive_12_mon_1  \\\n",
              "0                                           0.000093                                                                                    \n",
              "1                                           0.000057                                                                                    \n",
              "2                                           0.000021                                                                                    \n",
              "3                                           0.000134                                                                                    \n",
              "4                                           0.000022                                                                                    \n",
              "\n",
              "   Naive_Bayes_Classifier_Attrition_Flag_Card_Category_Contacts_Count_12_mon_Dependent_count_Education_Level_Months_Inactive_12_mon_2  \n",
              "0                                            0.99991                                                                                   \n",
              "1                                            0.99994                                                                                   \n",
              "2                                            0.99998                                                                                   \n",
              "3                                            0.99987                                                                                   \n",
              "4                                            0.99998                                                                                   \n",
              "\n",
              "[5 rows x 23 columns]"
            ],
            "text/html": [
              "\n",
              "  <div id=\"df-9366d8f3-59a3-4588-acfd-1017d87e239e\">\n",
              "    <div class=\"colab-df-container\">\n",
              "      <div>\n",
              "<style scoped>\n",
              "    .dataframe tbody tr th:only-of-type {\n",
              "        vertical-align: middle;\n",
              "    }\n",
              "\n",
              "    .dataframe tbody tr th {\n",
              "        vertical-align: top;\n",
              "    }\n",
              "\n",
              "    .dataframe thead th {\n",
              "        text-align: right;\n",
              "    }\n",
              "</style>\n",
              "<table border=\"1\" class=\"dataframe\">\n",
              "  <thead>\n",
              "    <tr style=\"text-align: right;\">\n",
              "      <th></th>\n",
              "      <th>CLIENTNUM</th>\n",
              "      <th>Attrition_Flag</th>\n",
              "      <th>Customer_Age</th>\n",
              "      <th>Gender</th>\n",
              "      <th>Dependent_count</th>\n",
              "      <th>Education_Level</th>\n",
              "      <th>Marital_Status</th>\n",
              "      <th>Income_Category</th>\n",
              "      <th>Card_Category</th>\n",
              "      <th>Months_on_book</th>\n",
              "      <th>...</th>\n",
              "      <th>Credit_Limit</th>\n",
              "      <th>Total_Revolving_Bal</th>\n",
              "      <th>Avg_Open_To_Buy</th>\n",
              "      <th>Total_Amt_Chng_Q4_Q1</th>\n",
              "      <th>Total_Trans_Amt</th>\n",
              "      <th>Total_Trans_Ct</th>\n",
              "      <th>Total_Ct_Chng_Q4_Q1</th>\n",
              "      <th>Avg_Utilization_Ratio</th>\n",
              "      <th>Naive_Bayes_Classifier_Attrition_Flag_Card_Category_Contacts_Count_12_mon_Dependent_count_Education_Level_Months_Inactive_12_mon_1</th>\n",
              "      <th>Naive_Bayes_Classifier_Attrition_Flag_Card_Category_Contacts_Count_12_mon_Dependent_count_Education_Level_Months_Inactive_12_mon_2</th>\n",
              "    </tr>\n",
              "  </thead>\n",
              "  <tbody>\n",
              "    <tr>\n",
              "      <th>0</th>\n",
              "      <td>768805383</td>\n",
              "      <td>Existing Customer</td>\n",
              "      <td>45</td>\n",
              "      <td>M</td>\n",
              "      <td>3</td>\n",
              "      <td>High School</td>\n",
              "      <td>Married</td>\n",
              "      <td>$60K - $80K</td>\n",
              "      <td>Blue</td>\n",
              "      <td>39</td>\n",
              "      <td>...</td>\n",
              "      <td>12691.0</td>\n",
              "      <td>777</td>\n",
              "      <td>11914.0</td>\n",
              "      <td>1.335</td>\n",
              "      <td>1144</td>\n",
              "      <td>42</td>\n",
              "      <td>1.625</td>\n",
              "      <td>0.061</td>\n",
              "      <td>0.000093</td>\n",
              "      <td>0.99991</td>\n",
              "    </tr>\n",
              "    <tr>\n",
              "      <th>1</th>\n",
              "      <td>818770008</td>\n",
              "      <td>Existing Customer</td>\n",
              "      <td>49</td>\n",
              "      <td>F</td>\n",
              "      <td>5</td>\n",
              "      <td>Graduate</td>\n",
              "      <td>Single</td>\n",
              "      <td>Less than $40K</td>\n",
              "      <td>Blue</td>\n",
              "      <td>44</td>\n",
              "      <td>...</td>\n",
              "      <td>8256.0</td>\n",
              "      <td>864</td>\n",
              "      <td>7392.0</td>\n",
              "      <td>1.541</td>\n",
              "      <td>1291</td>\n",
              "      <td>33</td>\n",
              "      <td>3.714</td>\n",
              "      <td>0.105</td>\n",
              "      <td>0.000057</td>\n",
              "      <td>0.99994</td>\n",
              "    </tr>\n",
              "    <tr>\n",
              "      <th>2</th>\n",
              "      <td>713982108</td>\n",
              "      <td>Existing Customer</td>\n",
              "      <td>51</td>\n",
              "      <td>M</td>\n",
              "      <td>3</td>\n",
              "      <td>Graduate</td>\n",
              "      <td>Married</td>\n",
              "      <td>$80K - $120K</td>\n",
              "      <td>Blue</td>\n",
              "      <td>36</td>\n",
              "      <td>...</td>\n",
              "      <td>3418.0</td>\n",
              "      <td>0</td>\n",
              "      <td>3418.0</td>\n",
              "      <td>2.594</td>\n",
              "      <td>1887</td>\n",
              "      <td>20</td>\n",
              "      <td>2.333</td>\n",
              "      <td>0.000</td>\n",
              "      <td>0.000021</td>\n",
              "      <td>0.99998</td>\n",
              "    </tr>\n",
              "    <tr>\n",
              "      <th>3</th>\n",
              "      <td>769911858</td>\n",
              "      <td>Existing Customer</td>\n",
              "      <td>40</td>\n",
              "      <td>F</td>\n",
              "      <td>4</td>\n",
              "      <td>High School</td>\n",
              "      <td>Unknown</td>\n",
              "      <td>Less than $40K</td>\n",
              "      <td>Blue</td>\n",
              "      <td>34</td>\n",
              "      <td>...</td>\n",
              "      <td>3313.0</td>\n",
              "      <td>2517</td>\n",
              "      <td>796.0</td>\n",
              "      <td>1.405</td>\n",
              "      <td>1171</td>\n",
              "      <td>20</td>\n",
              "      <td>2.333</td>\n",
              "      <td>0.760</td>\n",
              "      <td>0.000134</td>\n",
              "      <td>0.99987</td>\n",
              "    </tr>\n",
              "    <tr>\n",
              "      <th>4</th>\n",
              "      <td>709106358</td>\n",
              "      <td>Existing Customer</td>\n",
              "      <td>40</td>\n",
              "      <td>M</td>\n",
              "      <td>3</td>\n",
              "      <td>Uneducated</td>\n",
              "      <td>Married</td>\n",
              "      <td>$60K - $80K</td>\n",
              "      <td>Blue</td>\n",
              "      <td>21</td>\n",
              "      <td>...</td>\n",
              "      <td>4716.0</td>\n",
              "      <td>0</td>\n",
              "      <td>4716.0</td>\n",
              "      <td>2.175</td>\n",
              "      <td>816</td>\n",
              "      <td>28</td>\n",
              "      <td>2.500</td>\n",
              "      <td>0.000</td>\n",
              "      <td>0.000022</td>\n",
              "      <td>0.99998</td>\n",
              "    </tr>\n",
              "  </tbody>\n",
              "</table>\n",
              "<p>5 rows × 23 columns</p>\n",
              "</div>\n",
              "      <button class=\"colab-df-convert\" onclick=\"convertToInteractive('df-9366d8f3-59a3-4588-acfd-1017d87e239e')\"\n",
              "              title=\"Convert this dataframe to an interactive table.\"\n",
              "              style=\"display:none;\">\n",
              "        \n",
              "  <svg xmlns=\"http://www.w3.org/2000/svg\" height=\"24px\"viewBox=\"0 0 24 24\"\n",
              "       width=\"24px\">\n",
              "    <path d=\"M0 0h24v24H0V0z\" fill=\"none\"/>\n",
              "    <path d=\"M18.56 5.44l.94 2.06.94-2.06 2.06-.94-2.06-.94-.94-2.06-.94 2.06-2.06.94zm-11 1L8.5 8.5l.94-2.06 2.06-.94-2.06-.94L8.5 2.5l-.94 2.06-2.06.94zm10 10l.94 2.06.94-2.06 2.06-.94-2.06-.94-.94-2.06-.94 2.06-2.06.94z\"/><path d=\"M17.41 7.96l-1.37-1.37c-.4-.4-.92-.59-1.43-.59-.52 0-1.04.2-1.43.59L10.3 9.45l-7.72 7.72c-.78.78-.78 2.05 0 2.83L4 21.41c.39.39.9.59 1.41.59.51 0 1.02-.2 1.41-.59l7.78-7.78 2.81-2.81c.8-.78.8-2.07 0-2.86zM5.41 20L4 18.59l7.72-7.72 1.47 1.35L5.41 20z\"/>\n",
              "  </svg>\n",
              "      </button>\n",
              "      \n",
              "  <style>\n",
              "    .colab-df-container {\n",
              "      display:flex;\n",
              "      flex-wrap:wrap;\n",
              "      gap: 12px;\n",
              "    }\n",
              "\n",
              "    .colab-df-convert {\n",
              "      background-color: #E8F0FE;\n",
              "      border: none;\n",
              "      border-radius: 50%;\n",
              "      cursor: pointer;\n",
              "      display: none;\n",
              "      fill: #1967D2;\n",
              "      height: 32px;\n",
              "      padding: 0 0 0 0;\n",
              "      width: 32px;\n",
              "    }\n",
              "\n",
              "    .colab-df-convert:hover {\n",
              "      background-color: #E2EBFA;\n",
              "      box-shadow: 0px 1px 2px rgba(60, 64, 67, 0.3), 0px 1px 3px 1px rgba(60, 64, 67, 0.15);\n",
              "      fill: #174EA6;\n",
              "    }\n",
              "\n",
              "    [theme=dark] .colab-df-convert {\n",
              "      background-color: #3B4455;\n",
              "      fill: #D2E3FC;\n",
              "    }\n",
              "\n",
              "    [theme=dark] .colab-df-convert:hover {\n",
              "      background-color: #434B5C;\n",
              "      box-shadow: 0px 1px 3px 1px rgba(0, 0, 0, 0.15);\n",
              "      filter: drop-shadow(0px 1px 2px rgba(0, 0, 0, 0.3));\n",
              "      fill: #FFFFFF;\n",
              "    }\n",
              "  </style>\n",
              "\n",
              "      <script>\n",
              "        const buttonEl =\n",
              "          document.querySelector('#df-9366d8f3-59a3-4588-acfd-1017d87e239e button.colab-df-convert');\n",
              "        buttonEl.style.display =\n",
              "          google.colab.kernel.accessAllowed ? 'block' : 'none';\n",
              "\n",
              "        async function convertToInteractive(key) {\n",
              "          const element = document.querySelector('#df-9366d8f3-59a3-4588-acfd-1017d87e239e');\n",
              "          const dataTable =\n",
              "            await google.colab.kernel.invokeFunction('convertToInteractive',\n",
              "                                                     [key], {});\n",
              "          if (!dataTable) return;\n",
              "\n",
              "          const docLinkHtml = 'Like what you see? Visit the ' +\n",
              "            '<a target=\"_blank\" href=https://colab.research.google.com/notebooks/data_table.ipynb>data table notebook</a>'\n",
              "            + ' to learn more about interactive tables.';\n",
              "          element.innerHTML = '';\n",
              "          dataTable['output_type'] = 'display_data';\n",
              "          await google.colab.output.renderOutput(dataTable, element);\n",
              "          const docLink = document.createElement('div');\n",
              "          docLink.innerHTML = docLinkHtml;\n",
              "          element.appendChild(docLink);\n",
              "        }\n",
              "      </script>\n",
              "    </div>\n",
              "  </div>\n",
              "  "
            ]
          },
          "metadata": {},
          "execution_count": 48
        }
      ]
    },
    {
      "cell_type": "code",
      "source": [
        "# Drop the last two columns of the DataFrame\n",
        "df = df.drop(columns=[\"Naive_Bayes_Classifier_Attrition_Flag_Card_Category_Contacts_Count_12_mon_Dependent_count_Education_Level_Months_Inactive_12_mon_2\", \n",
        "                      \"Naive_Bayes_Classifier_Attrition_Flag_Card_Category_Contacts_Count_12_mon_Dependent_count_Education_Level_Months_Inactive_12_mon_1\"])"
      ],
      "metadata": {
        "id": "reDDwncat9mM"
      },
      "execution_count": 5,
      "outputs": []
    },
    {
      "cell_type": "code",
      "source": [
        "df.head()"
      ],
      "metadata": {
        "colab": {
          "base_uri": "https://localhost:8080/",
          "height": 300
        },
        "id": "QEMLrk6sxGpA",
        "outputId": "a9b8c823-d3ee-4ca6-c55f-d959bec0c8e7"
      },
      "execution_count": 6,
      "outputs": [
        {
          "output_type": "execute_result",
          "data": {
            "text/plain": [
              "   CLIENTNUM     Attrition_Flag  Customer_Age Gender  Dependent_count  \\\n",
              "0  768805383  Existing Customer            45      M                3   \n",
              "1  818770008  Existing Customer            49      F                5   \n",
              "2  713982108  Existing Customer            51      M                3   \n",
              "3  769911858  Existing Customer            40      F                4   \n",
              "4  709106358  Existing Customer            40      M                3   \n",
              "\n",
              "  Education_Level Marital_Status Income_Category Card_Category  \\\n",
              "0     High School        Married     $60K - $80K          Blue   \n",
              "1        Graduate         Single  Less than $40K          Blue   \n",
              "2        Graduate        Married    $80K - $120K          Blue   \n",
              "3     High School        Unknown  Less than $40K          Blue   \n",
              "4      Uneducated        Married     $60K - $80K          Blue   \n",
              "\n",
              "   Months_on_book  ...  Months_Inactive_12_mon  Contacts_Count_12_mon  \\\n",
              "0              39  ...                       1                      3   \n",
              "1              44  ...                       1                      2   \n",
              "2              36  ...                       1                      0   \n",
              "3              34  ...                       4                      1   \n",
              "4              21  ...                       1                      0   \n",
              "\n",
              "   Credit_Limit  Total_Revolving_Bal  Avg_Open_To_Buy  Total_Amt_Chng_Q4_Q1  \\\n",
              "0       12691.0                  777          11914.0                 1.335   \n",
              "1        8256.0                  864           7392.0                 1.541   \n",
              "2        3418.0                    0           3418.0                 2.594   \n",
              "3        3313.0                 2517            796.0                 1.405   \n",
              "4        4716.0                    0           4716.0                 2.175   \n",
              "\n",
              "   Total_Trans_Amt  Total_Trans_Ct  Total_Ct_Chng_Q4_Q1  Avg_Utilization_Ratio  \n",
              "0             1144              42                1.625                  0.061  \n",
              "1             1291              33                3.714                  0.105  \n",
              "2             1887              20                2.333                  0.000  \n",
              "3             1171              20                2.333                  0.760  \n",
              "4              816              28                2.500                  0.000  \n",
              "\n",
              "[5 rows x 21 columns]"
            ],
            "text/html": [
              "\n",
              "  <div id=\"df-b9ba7a2e-26e9-4b88-b21f-41500582b80d\">\n",
              "    <div class=\"colab-df-container\">\n",
              "      <div>\n",
              "<style scoped>\n",
              "    .dataframe tbody tr th:only-of-type {\n",
              "        vertical-align: middle;\n",
              "    }\n",
              "\n",
              "    .dataframe tbody tr th {\n",
              "        vertical-align: top;\n",
              "    }\n",
              "\n",
              "    .dataframe thead th {\n",
              "        text-align: right;\n",
              "    }\n",
              "</style>\n",
              "<table border=\"1\" class=\"dataframe\">\n",
              "  <thead>\n",
              "    <tr style=\"text-align: right;\">\n",
              "      <th></th>\n",
              "      <th>CLIENTNUM</th>\n",
              "      <th>Attrition_Flag</th>\n",
              "      <th>Customer_Age</th>\n",
              "      <th>Gender</th>\n",
              "      <th>Dependent_count</th>\n",
              "      <th>Education_Level</th>\n",
              "      <th>Marital_Status</th>\n",
              "      <th>Income_Category</th>\n",
              "      <th>Card_Category</th>\n",
              "      <th>Months_on_book</th>\n",
              "      <th>...</th>\n",
              "      <th>Months_Inactive_12_mon</th>\n",
              "      <th>Contacts_Count_12_mon</th>\n",
              "      <th>Credit_Limit</th>\n",
              "      <th>Total_Revolving_Bal</th>\n",
              "      <th>Avg_Open_To_Buy</th>\n",
              "      <th>Total_Amt_Chng_Q4_Q1</th>\n",
              "      <th>Total_Trans_Amt</th>\n",
              "      <th>Total_Trans_Ct</th>\n",
              "      <th>Total_Ct_Chng_Q4_Q1</th>\n",
              "      <th>Avg_Utilization_Ratio</th>\n",
              "    </tr>\n",
              "  </thead>\n",
              "  <tbody>\n",
              "    <tr>\n",
              "      <th>0</th>\n",
              "      <td>768805383</td>\n",
              "      <td>Existing Customer</td>\n",
              "      <td>45</td>\n",
              "      <td>M</td>\n",
              "      <td>3</td>\n",
              "      <td>High School</td>\n",
              "      <td>Married</td>\n",
              "      <td>$60K - $80K</td>\n",
              "      <td>Blue</td>\n",
              "      <td>39</td>\n",
              "      <td>...</td>\n",
              "      <td>1</td>\n",
              "      <td>3</td>\n",
              "      <td>12691.0</td>\n",
              "      <td>777</td>\n",
              "      <td>11914.0</td>\n",
              "      <td>1.335</td>\n",
              "      <td>1144</td>\n",
              "      <td>42</td>\n",
              "      <td>1.625</td>\n",
              "      <td>0.061</td>\n",
              "    </tr>\n",
              "    <tr>\n",
              "      <th>1</th>\n",
              "      <td>818770008</td>\n",
              "      <td>Existing Customer</td>\n",
              "      <td>49</td>\n",
              "      <td>F</td>\n",
              "      <td>5</td>\n",
              "      <td>Graduate</td>\n",
              "      <td>Single</td>\n",
              "      <td>Less than $40K</td>\n",
              "      <td>Blue</td>\n",
              "      <td>44</td>\n",
              "      <td>...</td>\n",
              "      <td>1</td>\n",
              "      <td>2</td>\n",
              "      <td>8256.0</td>\n",
              "      <td>864</td>\n",
              "      <td>7392.0</td>\n",
              "      <td>1.541</td>\n",
              "      <td>1291</td>\n",
              "      <td>33</td>\n",
              "      <td>3.714</td>\n",
              "      <td>0.105</td>\n",
              "    </tr>\n",
              "    <tr>\n",
              "      <th>2</th>\n",
              "      <td>713982108</td>\n",
              "      <td>Existing Customer</td>\n",
              "      <td>51</td>\n",
              "      <td>M</td>\n",
              "      <td>3</td>\n",
              "      <td>Graduate</td>\n",
              "      <td>Married</td>\n",
              "      <td>$80K - $120K</td>\n",
              "      <td>Blue</td>\n",
              "      <td>36</td>\n",
              "      <td>...</td>\n",
              "      <td>1</td>\n",
              "      <td>0</td>\n",
              "      <td>3418.0</td>\n",
              "      <td>0</td>\n",
              "      <td>3418.0</td>\n",
              "      <td>2.594</td>\n",
              "      <td>1887</td>\n",
              "      <td>20</td>\n",
              "      <td>2.333</td>\n",
              "      <td>0.000</td>\n",
              "    </tr>\n",
              "    <tr>\n",
              "      <th>3</th>\n",
              "      <td>769911858</td>\n",
              "      <td>Existing Customer</td>\n",
              "      <td>40</td>\n",
              "      <td>F</td>\n",
              "      <td>4</td>\n",
              "      <td>High School</td>\n",
              "      <td>Unknown</td>\n",
              "      <td>Less than $40K</td>\n",
              "      <td>Blue</td>\n",
              "      <td>34</td>\n",
              "      <td>...</td>\n",
              "      <td>4</td>\n",
              "      <td>1</td>\n",
              "      <td>3313.0</td>\n",
              "      <td>2517</td>\n",
              "      <td>796.0</td>\n",
              "      <td>1.405</td>\n",
              "      <td>1171</td>\n",
              "      <td>20</td>\n",
              "      <td>2.333</td>\n",
              "      <td>0.760</td>\n",
              "    </tr>\n",
              "    <tr>\n",
              "      <th>4</th>\n",
              "      <td>709106358</td>\n",
              "      <td>Existing Customer</td>\n",
              "      <td>40</td>\n",
              "      <td>M</td>\n",
              "      <td>3</td>\n",
              "      <td>Uneducated</td>\n",
              "      <td>Married</td>\n",
              "      <td>$60K - $80K</td>\n",
              "      <td>Blue</td>\n",
              "      <td>21</td>\n",
              "      <td>...</td>\n",
              "      <td>1</td>\n",
              "      <td>0</td>\n",
              "      <td>4716.0</td>\n",
              "      <td>0</td>\n",
              "      <td>4716.0</td>\n",
              "      <td>2.175</td>\n",
              "      <td>816</td>\n",
              "      <td>28</td>\n",
              "      <td>2.500</td>\n",
              "      <td>0.000</td>\n",
              "    </tr>\n",
              "  </tbody>\n",
              "</table>\n",
              "<p>5 rows × 21 columns</p>\n",
              "</div>\n",
              "      <button class=\"colab-df-convert\" onclick=\"convertToInteractive('df-b9ba7a2e-26e9-4b88-b21f-41500582b80d')\"\n",
              "              title=\"Convert this dataframe to an interactive table.\"\n",
              "              style=\"display:none;\">\n",
              "        \n",
              "  <svg xmlns=\"http://www.w3.org/2000/svg\" height=\"24px\"viewBox=\"0 0 24 24\"\n",
              "       width=\"24px\">\n",
              "    <path d=\"M0 0h24v24H0V0z\" fill=\"none\"/>\n",
              "    <path d=\"M18.56 5.44l.94 2.06.94-2.06 2.06-.94-2.06-.94-.94-2.06-.94 2.06-2.06.94zm-11 1L8.5 8.5l.94-2.06 2.06-.94-2.06-.94L8.5 2.5l-.94 2.06-2.06.94zm10 10l.94 2.06.94-2.06 2.06-.94-2.06-.94-.94-2.06-.94 2.06-2.06.94z\"/><path d=\"M17.41 7.96l-1.37-1.37c-.4-.4-.92-.59-1.43-.59-.52 0-1.04.2-1.43.59L10.3 9.45l-7.72 7.72c-.78.78-.78 2.05 0 2.83L4 21.41c.39.39.9.59 1.41.59.51 0 1.02-.2 1.41-.59l7.78-7.78 2.81-2.81c.8-.78.8-2.07 0-2.86zM5.41 20L4 18.59l7.72-7.72 1.47 1.35L5.41 20z\"/>\n",
              "  </svg>\n",
              "      </button>\n",
              "      \n",
              "  <style>\n",
              "    .colab-df-container {\n",
              "      display:flex;\n",
              "      flex-wrap:wrap;\n",
              "      gap: 12px;\n",
              "    }\n",
              "\n",
              "    .colab-df-convert {\n",
              "      background-color: #E8F0FE;\n",
              "      border: none;\n",
              "      border-radius: 50%;\n",
              "      cursor: pointer;\n",
              "      display: none;\n",
              "      fill: #1967D2;\n",
              "      height: 32px;\n",
              "      padding: 0 0 0 0;\n",
              "      width: 32px;\n",
              "    }\n",
              "\n",
              "    .colab-df-convert:hover {\n",
              "      background-color: #E2EBFA;\n",
              "      box-shadow: 0px 1px 2px rgba(60, 64, 67, 0.3), 0px 1px 3px 1px rgba(60, 64, 67, 0.15);\n",
              "      fill: #174EA6;\n",
              "    }\n",
              "\n",
              "    [theme=dark] .colab-df-convert {\n",
              "      background-color: #3B4455;\n",
              "      fill: #D2E3FC;\n",
              "    }\n",
              "\n",
              "    [theme=dark] .colab-df-convert:hover {\n",
              "      background-color: #434B5C;\n",
              "      box-shadow: 0px 1px 3px 1px rgba(0, 0, 0, 0.15);\n",
              "      filter: drop-shadow(0px 1px 2px rgba(0, 0, 0, 0.3));\n",
              "      fill: #FFFFFF;\n",
              "    }\n",
              "  </style>\n",
              "\n",
              "      <script>\n",
              "        const buttonEl =\n",
              "          document.querySelector('#df-b9ba7a2e-26e9-4b88-b21f-41500582b80d button.colab-df-convert');\n",
              "        buttonEl.style.display =\n",
              "          google.colab.kernel.accessAllowed ? 'block' : 'none';\n",
              "\n",
              "        async function convertToInteractive(key) {\n",
              "          const element = document.querySelector('#df-b9ba7a2e-26e9-4b88-b21f-41500582b80d');\n",
              "          const dataTable =\n",
              "            await google.colab.kernel.invokeFunction('convertToInteractive',\n",
              "                                                     [key], {});\n",
              "          if (!dataTable) return;\n",
              "\n",
              "          const docLinkHtml = 'Like what you see? Visit the ' +\n",
              "            '<a target=\"_blank\" href=https://colab.research.google.com/notebooks/data_table.ipynb>data table notebook</a>'\n",
              "            + ' to learn more about interactive tables.';\n",
              "          element.innerHTML = '';\n",
              "          dataTable['output_type'] = 'display_data';\n",
              "          await google.colab.output.renderOutput(dataTable, element);\n",
              "          const docLink = document.createElement('div');\n",
              "          docLink.innerHTML = docLinkHtml;\n",
              "          element.appendChild(docLink);\n",
              "        }\n",
              "      </script>\n",
              "    </div>\n",
              "  </div>\n",
              "  "
            ]
          },
          "metadata": {},
          "execution_count": 6
        }
      ]
    },
    {
      "cell_type": "code",
      "source": [
        "# See the number of rows and columns of the DataFrame\n",
        "df.shape"
      ],
      "metadata": {
        "colab": {
          "base_uri": "https://localhost:8080/"
        },
        "id": "acPEePlLwG6o",
        "outputId": "e545625c-b943-4510-e622-f459d01bc720"
      },
      "execution_count": 7,
      "outputs": [
        {
          "output_type": "execute_result",
          "data": {
            "text/plain": [
              "(10127, 21)"
            ]
          },
          "metadata": {},
          "execution_count": 7
        }
      ]
    },
    {
      "cell_type": "code",
      "source": [
        "# See column data types\n",
        "df.info()"
      ],
      "metadata": {
        "colab": {
          "base_uri": "https://localhost:8080/"
        },
        "id": "DZJ47oT3xTyb",
        "outputId": "9f08aa8f-5d91-41b3-f664-6ca2f37b6573"
      },
      "execution_count": 9,
      "outputs": [
        {
          "output_type": "stream",
          "name": "stdout",
          "text": [
            "<class 'pandas.core.frame.DataFrame'>\n",
            "RangeIndex: 10127 entries, 0 to 10126\n",
            "Data columns (total 21 columns):\n",
            " #   Column                    Non-Null Count  Dtype  \n",
            "---  ------                    --------------  -----  \n",
            " 0   CLIENTNUM                 10127 non-null  int64  \n",
            " 1   Attrition_Flag            10127 non-null  object \n",
            " 2   Customer_Age              10127 non-null  int64  \n",
            " 3   Gender                    10127 non-null  object \n",
            " 4   Dependent_count           10127 non-null  int64  \n",
            " 5   Education_Level           10127 non-null  object \n",
            " 6   Marital_Status            10127 non-null  object \n",
            " 7   Income_Category           10127 non-null  object \n",
            " 8   Card_Category             10127 non-null  object \n",
            " 9   Months_on_book            10127 non-null  int64  \n",
            " 10  Total_Relationship_Count  10127 non-null  int64  \n",
            " 11  Months_Inactive_12_mon    10127 non-null  int64  \n",
            " 12  Contacts_Count_12_mon     10127 non-null  int64  \n",
            " 13  Credit_Limit              10127 non-null  float64\n",
            " 14  Total_Revolving_Bal       10127 non-null  int64  \n",
            " 15  Avg_Open_To_Buy           10127 non-null  float64\n",
            " 16  Total_Amt_Chng_Q4_Q1      10127 non-null  float64\n",
            " 17  Total_Trans_Amt           10127 non-null  int64  \n",
            " 18  Total_Trans_Ct            10127 non-null  int64  \n",
            " 19  Total_Ct_Chng_Q4_Q1       10127 non-null  float64\n",
            " 20  Avg_Utilization_Ratio     10127 non-null  float64\n",
            "dtypes: float64(5), int64(10), object(6)\n",
            "memory usage: 1.6+ MB\n"
          ]
        }
      ]
    },
    {
      "cell_type": "code",
      "source": [
        "# Check if there are any missing values in our dataset or not\n",
        "df.isnull().sum()"
      ],
      "metadata": {
        "colab": {
          "base_uri": "https://localhost:8080/"
        },
        "id": "Q9EKuxIqxeEH",
        "outputId": "c8fad69b-8b50-48fa-a4d9-c6a69c6d315e"
      },
      "execution_count": 10,
      "outputs": [
        {
          "output_type": "execute_result",
          "data": {
            "text/plain": [
              "CLIENTNUM                   0\n",
              "Attrition_Flag              0\n",
              "Customer_Age                0\n",
              "Gender                      0\n",
              "Dependent_count             0\n",
              "Education_Level             0\n",
              "Marital_Status              0\n",
              "Income_Category             0\n",
              "Card_Category               0\n",
              "Months_on_book              0\n",
              "Total_Relationship_Count    0\n",
              "Months_Inactive_12_mon      0\n",
              "Contacts_Count_12_mon       0\n",
              "Credit_Limit                0\n",
              "Total_Revolving_Bal         0\n",
              "Avg_Open_To_Buy             0\n",
              "Total_Amt_Chng_Q4_Q1        0\n",
              "Total_Trans_Amt             0\n",
              "Total_Trans_Ct              0\n",
              "Total_Ct_Chng_Q4_Q1         0\n",
              "Avg_Utilization_Ratio       0\n",
              "dtype: int64"
            ]
          },
          "metadata": {},
          "execution_count": 10
        }
      ]
    },
    {
      "cell_type": "code",
      "source": [
        "# See a quick summary of the dataset\n",
        "df.describe()"
      ],
      "metadata": {
        "colab": {
          "base_uri": "https://localhost:8080/",
          "height": 364
        },
        "id": "lCEIiYLRwSY6",
        "outputId": "af4253a0-c368-49a1-9eb1-e26a662f4747"
      },
      "execution_count": 8,
      "outputs": [
        {
          "output_type": "execute_result",
          "data": {
            "text/plain": [
              "          CLIENTNUM  Customer_Age  Dependent_count  Months_on_book  \\\n",
              "count  1.012700e+04  10127.000000     10127.000000    10127.000000   \n",
              "mean   7.391776e+08     46.325960         2.346203       35.928409   \n",
              "std    3.690378e+07      8.016814         1.298908        7.986416   \n",
              "min    7.080821e+08     26.000000         0.000000       13.000000   \n",
              "25%    7.130368e+08     41.000000         1.000000       31.000000   \n",
              "50%    7.179264e+08     46.000000         2.000000       36.000000   \n",
              "75%    7.731435e+08     52.000000         3.000000       40.000000   \n",
              "max    8.283431e+08     73.000000         5.000000       56.000000   \n",
              "\n",
              "       Total_Relationship_Count  Months_Inactive_12_mon  \\\n",
              "count              10127.000000            10127.000000   \n",
              "mean                   3.812580                2.341167   \n",
              "std                    1.554408                1.010622   \n",
              "min                    1.000000                0.000000   \n",
              "25%                    3.000000                2.000000   \n",
              "50%                    4.000000                2.000000   \n",
              "75%                    5.000000                3.000000   \n",
              "max                    6.000000                6.000000   \n",
              "\n",
              "       Contacts_Count_12_mon  Credit_Limit  Total_Revolving_Bal  \\\n",
              "count           10127.000000  10127.000000         10127.000000   \n",
              "mean                2.455317   8631.953698          1162.814061   \n",
              "std                 1.106225   9088.776650           814.987335   \n",
              "min                 0.000000   1438.300000             0.000000   \n",
              "25%                 2.000000   2555.000000           359.000000   \n",
              "50%                 2.000000   4549.000000          1276.000000   \n",
              "75%                 3.000000  11067.500000          1784.000000   \n",
              "max                 6.000000  34516.000000          2517.000000   \n",
              "\n",
              "       Avg_Open_To_Buy  Total_Amt_Chng_Q4_Q1  Total_Trans_Amt  Total_Trans_Ct  \\\n",
              "count     10127.000000          10127.000000     10127.000000    10127.000000   \n",
              "mean       7469.139637              0.759941      4404.086304       64.858695   \n",
              "std        9090.685324              0.219207      3397.129254       23.472570   \n",
              "min           3.000000              0.000000       510.000000       10.000000   \n",
              "25%        1324.500000              0.631000      2155.500000       45.000000   \n",
              "50%        3474.000000              0.736000      3899.000000       67.000000   \n",
              "75%        9859.000000              0.859000      4741.000000       81.000000   \n",
              "max       34516.000000              3.397000     18484.000000      139.000000   \n",
              "\n",
              "       Total_Ct_Chng_Q4_Q1  Avg_Utilization_Ratio  \n",
              "count         10127.000000           10127.000000  \n",
              "mean              0.712222               0.274894  \n",
              "std               0.238086               0.275691  \n",
              "min               0.000000               0.000000  \n",
              "25%               0.582000               0.023000  \n",
              "50%               0.702000               0.176000  \n",
              "75%               0.818000               0.503000  \n",
              "max               3.714000               0.999000  "
            ],
            "text/html": [
              "\n",
              "  <div id=\"df-7672c15c-b352-45bc-99c0-6d7eeca69f19\">\n",
              "    <div class=\"colab-df-container\">\n",
              "      <div>\n",
              "<style scoped>\n",
              "    .dataframe tbody tr th:only-of-type {\n",
              "        vertical-align: middle;\n",
              "    }\n",
              "\n",
              "    .dataframe tbody tr th {\n",
              "        vertical-align: top;\n",
              "    }\n",
              "\n",
              "    .dataframe thead th {\n",
              "        text-align: right;\n",
              "    }\n",
              "</style>\n",
              "<table border=\"1\" class=\"dataframe\">\n",
              "  <thead>\n",
              "    <tr style=\"text-align: right;\">\n",
              "      <th></th>\n",
              "      <th>CLIENTNUM</th>\n",
              "      <th>Customer_Age</th>\n",
              "      <th>Dependent_count</th>\n",
              "      <th>Months_on_book</th>\n",
              "      <th>Total_Relationship_Count</th>\n",
              "      <th>Months_Inactive_12_mon</th>\n",
              "      <th>Contacts_Count_12_mon</th>\n",
              "      <th>Credit_Limit</th>\n",
              "      <th>Total_Revolving_Bal</th>\n",
              "      <th>Avg_Open_To_Buy</th>\n",
              "      <th>Total_Amt_Chng_Q4_Q1</th>\n",
              "      <th>Total_Trans_Amt</th>\n",
              "      <th>Total_Trans_Ct</th>\n",
              "      <th>Total_Ct_Chng_Q4_Q1</th>\n",
              "      <th>Avg_Utilization_Ratio</th>\n",
              "    </tr>\n",
              "  </thead>\n",
              "  <tbody>\n",
              "    <tr>\n",
              "      <th>count</th>\n",
              "      <td>1.012700e+04</td>\n",
              "      <td>10127.000000</td>\n",
              "      <td>10127.000000</td>\n",
              "      <td>10127.000000</td>\n",
              "      <td>10127.000000</td>\n",
              "      <td>10127.000000</td>\n",
              "      <td>10127.000000</td>\n",
              "      <td>10127.000000</td>\n",
              "      <td>10127.000000</td>\n",
              "      <td>10127.000000</td>\n",
              "      <td>10127.000000</td>\n",
              "      <td>10127.000000</td>\n",
              "      <td>10127.000000</td>\n",
              "      <td>10127.000000</td>\n",
              "      <td>10127.000000</td>\n",
              "    </tr>\n",
              "    <tr>\n",
              "      <th>mean</th>\n",
              "      <td>7.391776e+08</td>\n",
              "      <td>46.325960</td>\n",
              "      <td>2.346203</td>\n",
              "      <td>35.928409</td>\n",
              "      <td>3.812580</td>\n",
              "      <td>2.341167</td>\n",
              "      <td>2.455317</td>\n",
              "      <td>8631.953698</td>\n",
              "      <td>1162.814061</td>\n",
              "      <td>7469.139637</td>\n",
              "      <td>0.759941</td>\n",
              "      <td>4404.086304</td>\n",
              "      <td>64.858695</td>\n",
              "      <td>0.712222</td>\n",
              "      <td>0.274894</td>\n",
              "    </tr>\n",
              "    <tr>\n",
              "      <th>std</th>\n",
              "      <td>3.690378e+07</td>\n",
              "      <td>8.016814</td>\n",
              "      <td>1.298908</td>\n",
              "      <td>7.986416</td>\n",
              "      <td>1.554408</td>\n",
              "      <td>1.010622</td>\n",
              "      <td>1.106225</td>\n",
              "      <td>9088.776650</td>\n",
              "      <td>814.987335</td>\n",
              "      <td>9090.685324</td>\n",
              "      <td>0.219207</td>\n",
              "      <td>3397.129254</td>\n",
              "      <td>23.472570</td>\n",
              "      <td>0.238086</td>\n",
              "      <td>0.275691</td>\n",
              "    </tr>\n",
              "    <tr>\n",
              "      <th>min</th>\n",
              "      <td>7.080821e+08</td>\n",
              "      <td>26.000000</td>\n",
              "      <td>0.000000</td>\n",
              "      <td>13.000000</td>\n",
              "      <td>1.000000</td>\n",
              "      <td>0.000000</td>\n",
              "      <td>0.000000</td>\n",
              "      <td>1438.300000</td>\n",
              "      <td>0.000000</td>\n",
              "      <td>3.000000</td>\n",
              "      <td>0.000000</td>\n",
              "      <td>510.000000</td>\n",
              "      <td>10.000000</td>\n",
              "      <td>0.000000</td>\n",
              "      <td>0.000000</td>\n",
              "    </tr>\n",
              "    <tr>\n",
              "      <th>25%</th>\n",
              "      <td>7.130368e+08</td>\n",
              "      <td>41.000000</td>\n",
              "      <td>1.000000</td>\n",
              "      <td>31.000000</td>\n",
              "      <td>3.000000</td>\n",
              "      <td>2.000000</td>\n",
              "      <td>2.000000</td>\n",
              "      <td>2555.000000</td>\n",
              "      <td>359.000000</td>\n",
              "      <td>1324.500000</td>\n",
              "      <td>0.631000</td>\n",
              "      <td>2155.500000</td>\n",
              "      <td>45.000000</td>\n",
              "      <td>0.582000</td>\n",
              "      <td>0.023000</td>\n",
              "    </tr>\n",
              "    <tr>\n",
              "      <th>50%</th>\n",
              "      <td>7.179264e+08</td>\n",
              "      <td>46.000000</td>\n",
              "      <td>2.000000</td>\n",
              "      <td>36.000000</td>\n",
              "      <td>4.000000</td>\n",
              "      <td>2.000000</td>\n",
              "      <td>2.000000</td>\n",
              "      <td>4549.000000</td>\n",
              "      <td>1276.000000</td>\n",
              "      <td>3474.000000</td>\n",
              "      <td>0.736000</td>\n",
              "      <td>3899.000000</td>\n",
              "      <td>67.000000</td>\n",
              "      <td>0.702000</td>\n",
              "      <td>0.176000</td>\n",
              "    </tr>\n",
              "    <tr>\n",
              "      <th>75%</th>\n",
              "      <td>7.731435e+08</td>\n",
              "      <td>52.000000</td>\n",
              "      <td>3.000000</td>\n",
              "      <td>40.000000</td>\n",
              "      <td>5.000000</td>\n",
              "      <td>3.000000</td>\n",
              "      <td>3.000000</td>\n",
              "      <td>11067.500000</td>\n",
              "      <td>1784.000000</td>\n",
              "      <td>9859.000000</td>\n",
              "      <td>0.859000</td>\n",
              "      <td>4741.000000</td>\n",
              "      <td>81.000000</td>\n",
              "      <td>0.818000</td>\n",
              "      <td>0.503000</td>\n",
              "    </tr>\n",
              "    <tr>\n",
              "      <th>max</th>\n",
              "      <td>8.283431e+08</td>\n",
              "      <td>73.000000</td>\n",
              "      <td>5.000000</td>\n",
              "      <td>56.000000</td>\n",
              "      <td>6.000000</td>\n",
              "      <td>6.000000</td>\n",
              "      <td>6.000000</td>\n",
              "      <td>34516.000000</td>\n",
              "      <td>2517.000000</td>\n",
              "      <td>34516.000000</td>\n",
              "      <td>3.397000</td>\n",
              "      <td>18484.000000</td>\n",
              "      <td>139.000000</td>\n",
              "      <td>3.714000</td>\n",
              "      <td>0.999000</td>\n",
              "    </tr>\n",
              "  </tbody>\n",
              "</table>\n",
              "</div>\n",
              "      <button class=\"colab-df-convert\" onclick=\"convertToInteractive('df-7672c15c-b352-45bc-99c0-6d7eeca69f19')\"\n",
              "              title=\"Convert this dataframe to an interactive table.\"\n",
              "              style=\"display:none;\">\n",
              "        \n",
              "  <svg xmlns=\"http://www.w3.org/2000/svg\" height=\"24px\"viewBox=\"0 0 24 24\"\n",
              "       width=\"24px\">\n",
              "    <path d=\"M0 0h24v24H0V0z\" fill=\"none\"/>\n",
              "    <path d=\"M18.56 5.44l.94 2.06.94-2.06 2.06-.94-2.06-.94-.94-2.06-.94 2.06-2.06.94zm-11 1L8.5 8.5l.94-2.06 2.06-.94-2.06-.94L8.5 2.5l-.94 2.06-2.06.94zm10 10l.94 2.06.94-2.06 2.06-.94-2.06-.94-.94-2.06-.94 2.06-2.06.94z\"/><path d=\"M17.41 7.96l-1.37-1.37c-.4-.4-.92-.59-1.43-.59-.52 0-1.04.2-1.43.59L10.3 9.45l-7.72 7.72c-.78.78-.78 2.05 0 2.83L4 21.41c.39.39.9.59 1.41.59.51 0 1.02-.2 1.41-.59l7.78-7.78 2.81-2.81c.8-.78.8-2.07 0-2.86zM5.41 20L4 18.59l7.72-7.72 1.47 1.35L5.41 20z\"/>\n",
              "  </svg>\n",
              "      </button>\n",
              "      \n",
              "  <style>\n",
              "    .colab-df-container {\n",
              "      display:flex;\n",
              "      flex-wrap:wrap;\n",
              "      gap: 12px;\n",
              "    }\n",
              "\n",
              "    .colab-df-convert {\n",
              "      background-color: #E8F0FE;\n",
              "      border: none;\n",
              "      border-radius: 50%;\n",
              "      cursor: pointer;\n",
              "      display: none;\n",
              "      fill: #1967D2;\n",
              "      height: 32px;\n",
              "      padding: 0 0 0 0;\n",
              "      width: 32px;\n",
              "    }\n",
              "\n",
              "    .colab-df-convert:hover {\n",
              "      background-color: #E2EBFA;\n",
              "      box-shadow: 0px 1px 2px rgba(60, 64, 67, 0.3), 0px 1px 3px 1px rgba(60, 64, 67, 0.15);\n",
              "      fill: #174EA6;\n",
              "    }\n",
              "\n",
              "    [theme=dark] .colab-df-convert {\n",
              "      background-color: #3B4455;\n",
              "      fill: #D2E3FC;\n",
              "    }\n",
              "\n",
              "    [theme=dark] .colab-df-convert:hover {\n",
              "      background-color: #434B5C;\n",
              "      box-shadow: 0px 1px 3px 1px rgba(0, 0, 0, 0.15);\n",
              "      filter: drop-shadow(0px 1px 2px rgba(0, 0, 0, 0.3));\n",
              "      fill: #FFFFFF;\n",
              "    }\n",
              "  </style>\n",
              "\n",
              "      <script>\n",
              "        const buttonEl =\n",
              "          document.querySelector('#df-7672c15c-b352-45bc-99c0-6d7eeca69f19 button.colab-df-convert');\n",
              "        buttonEl.style.display =\n",
              "          google.colab.kernel.accessAllowed ? 'block' : 'none';\n",
              "\n",
              "        async function convertToInteractive(key) {\n",
              "          const element = document.querySelector('#df-7672c15c-b352-45bc-99c0-6d7eeca69f19');\n",
              "          const dataTable =\n",
              "            await google.colab.kernel.invokeFunction('convertToInteractive',\n",
              "                                                     [key], {});\n",
              "          if (!dataTable) return;\n",
              "\n",
              "          const docLinkHtml = 'Like what you see? Visit the ' +\n",
              "            '<a target=\"_blank\" href=https://colab.research.google.com/notebooks/data_table.ipynb>data table notebook</a>'\n",
              "            + ' to learn more about interactive tables.';\n",
              "          element.innerHTML = '';\n",
              "          dataTable['output_type'] = 'display_data';\n",
              "          await google.colab.output.renderOutput(dataTable, element);\n",
              "          const docLink = document.createElement('div');\n",
              "          docLink.innerHTML = docLinkHtml;\n",
              "          element.appendChild(docLink);\n",
              "        }\n",
              "      </script>\n",
              "    </div>\n",
              "  </div>\n",
              "  "
            ]
          },
          "metadata": {},
          "execution_count": 8
        }
      ]
    },
    {
      "cell_type": "code",
      "source": [
        "# Check unique values in all columns\n",
        "Attrition_Flag = df[\"Attrition_Flag\"].unique()\n",
        "Attrition_Flag"
      ],
      "metadata": {
        "colab": {
          "base_uri": "https://localhost:8080/"
        },
        "id": "0pIKSFguxwvy",
        "outputId": "5499a651-93b5-48c6-8184-9fd01a1b9991"
      },
      "execution_count": 11,
      "outputs": [
        {
          "output_type": "execute_result",
          "data": {
            "text/plain": [
              "array(['Existing Customer', 'Attrited Customer'], dtype=object)"
            ]
          },
          "metadata": {},
          "execution_count": 11
        }
      ]
    },
    {
      "cell_type": "code",
      "source": [
        "Customer_Age = df[\"Customer_Age\"].unique()\n",
        "Customer_Age.sort()\n",
        "Customer_Age "
      ],
      "metadata": {
        "colab": {
          "base_uri": "https://localhost:8080/"
        },
        "id": "rThB7qvrzHbZ",
        "outputId": "8ddb7204-0414-49fb-e399-eb91ce9b6bce"
      },
      "execution_count": 12,
      "outputs": [
        {
          "output_type": "execute_result",
          "data": {
            "text/plain": [
              "array([26, 27, 28, 29, 30, 31, 32, 33, 34, 35, 36, 37, 38, 39, 40, 41, 42,\n",
              "       43, 44, 45, 46, 47, 48, 49, 50, 51, 52, 53, 54, 55, 56, 57, 58, 59,\n",
              "       60, 61, 62, 63, 64, 65, 66, 67, 68, 70, 73])"
            ]
          },
          "metadata": {},
          "execution_count": 12
        }
      ]
    },
    {
      "cell_type": "code",
      "source": [
        "Gender = df[\"Gender\"].unique()\n",
        "Gender"
      ],
      "metadata": {
        "colab": {
          "base_uri": "https://localhost:8080/"
        },
        "id": "i1juA6rbzQOX",
        "outputId": "3ae6c2e6-caf4-441d-b4ff-96b2ed63d05a"
      },
      "execution_count": 13,
      "outputs": [
        {
          "output_type": "execute_result",
          "data": {
            "text/plain": [
              "array(['M', 'F'], dtype=object)"
            ]
          },
          "metadata": {},
          "execution_count": 13
        }
      ]
    },
    {
      "cell_type": "code",
      "source": [
        "Dependent_count = df[\"Dependent_count\"].unique()\n",
        "Dependent_count.sort()\n",
        "Dependent_count"
      ],
      "metadata": {
        "colab": {
          "base_uri": "https://localhost:8080/"
        },
        "id": "B_HSQ7kzD6TA",
        "outputId": "f1f647b0-1190-4372-98e0-47364b5eb4e8"
      },
      "execution_count": 14,
      "outputs": [
        {
          "output_type": "execute_result",
          "data": {
            "text/plain": [
              "array([0, 1, 2, 3, 4, 5])"
            ]
          },
          "metadata": {},
          "execution_count": 14
        }
      ]
    },
    {
      "cell_type": "code",
      "source": [
        "Education_Level = df[\"Education_Level\"].unique()\n",
        "Education_Level"
      ],
      "metadata": {
        "colab": {
          "base_uri": "https://localhost:8080/"
        },
        "id": "a6W8Fnia0fWQ",
        "outputId": "00ad8f5a-9621-4b88-989e-57bd472052bd"
      },
      "execution_count": null,
      "outputs": [
        {
          "output_type": "execute_result",
          "data": {
            "text/plain": [
              "array(['High School', 'Graduate', 'Uneducated', 'Unknown', 'College',\n",
              "       'Post-Graduate', 'Doctorate'], dtype=object)"
            ]
          },
          "metadata": {},
          "execution_count": 41
        }
      ]
    },
    {
      "cell_type": "code",
      "source": [
        "Marital_Status = df[\"Marital_Status\"].unique()\n",
        "Marital_Status"
      ],
      "metadata": {
        "colab": {
          "base_uri": "https://localhost:8080/"
        },
        "id": "_j4Gxqrd0u7m",
        "outputId": "20861933-8700-468d-a8f7-add647ff6d2f"
      },
      "execution_count": null,
      "outputs": [
        {
          "output_type": "execute_result",
          "data": {
            "text/plain": [
              "array(['Married', 'Single', 'Unknown', 'Divorced'], dtype=object)"
            ]
          },
          "metadata": {},
          "execution_count": 43
        }
      ]
    },
    {
      "cell_type": "code",
      "source": [
        "Income_Category = df[\"Income_Category\"].unique()\n",
        "Income_Category"
      ],
      "metadata": {
        "colab": {
          "base_uri": "https://localhost:8080/"
        },
        "id": "hd8IG9IT1HxC",
        "outputId": "62d646fc-f6e6-4d0d-e530-de190b943a88"
      },
      "execution_count": null,
      "outputs": [
        {
          "output_type": "execute_result",
          "data": {
            "text/plain": [
              "array(['$60K - $80K', 'Less than $40K', '$80K - $120K', '$40K - $60K',\n",
              "       '$120K +', 'Unknown'], dtype=object)"
            ]
          },
          "metadata": {},
          "execution_count": 44
        }
      ]
    },
    {
      "cell_type": "code",
      "source": [
        "Card_Category = df[\"Card_Category\"].unique()\n",
        "Card_Category"
      ],
      "metadata": {
        "id": "s2j7o6jx1Wqs",
        "colab": {
          "base_uri": "https://localhost:8080/"
        },
        "outputId": "933f79ea-09df-4cbe-ba2e-fc39626da792"
      },
      "execution_count": 46,
      "outputs": [
        {
          "output_type": "execute_result",
          "data": {
            "text/plain": [
              "array(['Blue', 'Gold', 'Silver', 'Platinum'], dtype=object)"
            ]
          },
          "metadata": {},
          "execution_count": 46
        }
      ]
    },
    {
      "cell_type": "code",
      "source": [
        "Months_on_book = df[\"Months_on_book\"].unique()\n",
        "Months_on_book.sort()\n",
        "Months_on_book"
      ],
      "metadata": {
        "colab": {
          "base_uri": "https://localhost:8080/"
        },
        "id": "Hi2Kl1ljEw6l",
        "outputId": "8417b39f-e002-4640-8bf0-a0ff37c7efde"
      },
      "execution_count": 49,
      "outputs": [
        {
          "output_type": "execute_result",
          "data": {
            "text/plain": [
              "array([13, 14, 15, 16, 17, 18, 19, 20, 21, 22, 23, 24, 25, 26, 27, 28, 29,\n",
              "       30, 31, 32, 33, 34, 35, 36, 37, 38, 39, 40, 41, 42, 43, 44, 45, 46,\n",
              "       47, 48, 49, 50, 51, 52, 53, 54, 55, 56])"
            ]
          },
          "metadata": {},
          "execution_count": 49
        }
      ]
    },
    {
      "cell_type": "code",
      "source": [
        "Total_Relationship_Count = df[\"Total_Relationship_Count\"].unique()\n",
        "Total_Relationship_Count.sort()\n",
        "Total_Relationship_Count"
      ],
      "metadata": {
        "colab": {
          "base_uri": "https://localhost:8080/"
        },
        "id": "SajiwfriE7LJ",
        "outputId": "fe0988fc-57c4-42f8-ebd5-4e4890e0b01f"
      },
      "execution_count": 16,
      "outputs": [
        {
          "output_type": "execute_result",
          "data": {
            "text/plain": [
              "array([1, 2, 3, 4, 5, 6])"
            ]
          },
          "metadata": {},
          "execution_count": 16
        }
      ]
    },
    {
      "cell_type": "code",
      "source": [
        "Months_Inactive_12_mon = df[\"Months_Inactive_12_mon\"].unique()\n",
        "Months_Inactive_12_mon.sort()\n",
        "Months_Inactive_12_mon"
      ],
      "metadata": {
        "colab": {
          "base_uri": "https://localhost:8080/"
        },
        "id": "VoVD0wEDEwY4",
        "outputId": "1f38a220-7f69-43ed-8ea4-3bfdce75e78a"
      },
      "execution_count": 18,
      "outputs": [
        {
          "output_type": "execute_result",
          "data": {
            "text/plain": [
              "array([0, 1, 2, 3, 4, 5, 6])"
            ]
          },
          "metadata": {},
          "execution_count": 18
        }
      ]
    },
    {
      "cell_type": "code",
      "source": [
        "Contacts_Count_12_mon = df[\"Contacts_Count_12_mon\"].unique()\n",
        "Contacts_Count_12_mon.sort()\n",
        "Contacts_Count_12_mon"
      ],
      "metadata": {
        "colab": {
          "base_uri": "https://localhost:8080/"
        },
        "id": "cMrA96DvE7g5",
        "outputId": "2fae9d65-7615-4f74-882b-a2ef83d28e38"
      },
      "execution_count": 20,
      "outputs": [
        {
          "output_type": "execute_result",
          "data": {
            "text/plain": [
              "array([0, 1, 2, 3, 4, 5, 6])"
            ]
          },
          "metadata": {},
          "execution_count": 20
        }
      ]
    },
    {
      "cell_type": "code",
      "source": [
        "Credit_Limit = df[\"Credit_Limit\"].unique()\n",
        "Credit_Limit.sort()\n",
        "print(Credit_Limit.size)"
      ],
      "metadata": {
        "colab": {
          "base_uri": "https://localhost:8080/"
        },
        "id": "89SJUXDfFFvP",
        "outputId": "da6ca8c8-f1d8-4d63-e889-671fc6090d53"
      },
      "execution_count": 30,
      "outputs": [
        {
          "output_type": "stream",
          "name": "stdout",
          "text": [
            "6205\n"
          ]
        }
      ]
    },
    {
      "cell_type": "code",
      "source": [
        "Total_Revolving_Bal = df[\"Total_Revolving_Bal\"].unique()\n",
        "print(Total_Revolving_Bal.size)"
      ],
      "metadata": {
        "colab": {
          "base_uri": "https://localhost:8080/"
        },
        "id": "09bfpRzBFRAX",
        "outputId": "02c5d52f-1b87-4418-f342-20fcb182b2b5"
      },
      "execution_count": 33,
      "outputs": [
        {
          "output_type": "stream",
          "name": "stdout",
          "text": [
            "1974\n"
          ]
        }
      ]
    },
    {
      "cell_type": "code",
      "source": [
        "Avg_Open_To_Buy = df[\"Avg_Open_To_Buy\"].unique()\n",
        "print(Avg_Open_To_Buy.size)"
      ],
      "metadata": {
        "colab": {
          "base_uri": "https://localhost:8080/"
        },
        "id": "RBqAcbYeJAsW",
        "outputId": "c220ace8-fbc1-431f-ae54-91037ef0842c"
      },
      "execution_count": 35,
      "outputs": [
        {
          "output_type": "execute_result",
          "data": {
            "text/plain": [
              "6813"
            ]
          },
          "metadata": {},
          "execution_count": 35
        }
      ]
    },
    {
      "cell_type": "code",
      "source": [
        "Total_Amt_Chng_Q4_Q1 = df[\"Total_Amt_Chng_Q4_Q1\"].unique()\n",
        "print(Total_Amt_Chng_Q4_Q1.size)"
      ],
      "metadata": {
        "colab": {
          "base_uri": "https://localhost:8080/"
        },
        "id": "c02RM0_dJBgk",
        "outputId": "6bab07dc-7b2f-42a1-bcbf-0c4a2715d210"
      },
      "execution_count": 38,
      "outputs": [
        {
          "output_type": "stream",
          "name": "stdout",
          "text": [
            "1158\n"
          ]
        }
      ]
    },
    {
      "cell_type": "code",
      "source": [
        "Total_Trans_Amt = df[\"Total_Trans_Amt\"].unique()\n",
        "print(Total_Trans_Amt.size)"
      ],
      "metadata": {
        "colab": {
          "base_uri": "https://localhost:8080/"
        },
        "id": "v6X6G5qAJB2X",
        "outputId": "69a0802e-9114-4273-d1d3-93cccb8df037"
      },
      "execution_count": 40,
      "outputs": [
        {
          "output_type": "stream",
          "name": "stdout",
          "text": [
            "5033\n"
          ]
        }
      ]
    },
    {
      "cell_type": "code",
      "source": [
        "Total_Trans_Ct = df[\"Total_Trans_Ct\"].unique()\n",
        "Total_Trans_Ct.sort()\n",
        "Total_Trans_Ct"
      ],
      "metadata": {
        "colab": {
          "base_uri": "https://localhost:8080/"
        },
        "id": "ciOs-QtJJCMZ",
        "outputId": "cc9f2375-d0d3-4347-c666-7245f603d57a"
      },
      "execution_count": 42,
      "outputs": [
        {
          "output_type": "execute_result",
          "data": {
            "text/plain": [
              "array([ 10,  11,  12,  13,  14,  15,  16,  17,  18,  19,  20,  21,  22,\n",
              "        23,  24,  25,  26,  27,  28,  29,  30,  31,  32,  33,  34,  35,\n",
              "        36,  37,  38,  39,  40,  41,  42,  43,  44,  45,  46,  47,  48,\n",
              "        49,  50,  51,  52,  53,  54,  55,  56,  57,  58,  59,  60,  61,\n",
              "        62,  63,  64,  65,  66,  67,  68,  69,  70,  71,  72,  73,  74,\n",
              "        75,  76,  77,  78,  79,  80,  81,  82,  83,  84,  85,  86,  87,\n",
              "        88,  89,  90,  91,  92,  93,  94,  95,  96,  97,  98,  99, 100,\n",
              "       101, 102, 103, 104, 105, 106, 107, 108, 109, 110, 111, 112, 113,\n",
              "       114, 115, 116, 117, 118, 119, 120, 121, 122, 123, 124, 125, 126,\n",
              "       127, 128, 129, 130, 131, 132, 134, 138, 139])"
            ]
          },
          "metadata": {},
          "execution_count": 42
        }
      ]
    },
    {
      "cell_type": "code",
      "source": [
        "Total_Ct_Chng_Q4_Q1 = df[\"Total_Ct_Chng_Q4_Q1\"].unique()\n",
        "Total_Ct_Chng_Q4_Q1.sort()\n",
        "Total_Ct_Chng_Q4_Q1"
      ],
      "metadata": {
        "colab": {
          "base_uri": "https://localhost:8080/"
        },
        "id": "x7Tfe1umJCjm",
        "outputId": "2d4002e3-74c0-40e3-caf8-99f96832ea44"
      },
      "execution_count": 44,
      "outputs": [
        {
          "output_type": "execute_result",
          "data": {
            "text/plain": [
              "array([0.   , 0.028, 0.029, 0.038, 0.053, 0.059, 0.062, 0.074, 0.077,\n",
              "       0.091, 0.097, 0.103, 0.105, 0.107, 0.111, 0.119, 0.125, 0.13 ,\n",
              "       0.133, 0.143, 0.147, 0.15 , 0.154, 0.161, 0.162, 0.167, 0.171,\n",
              "       0.172, 0.174, 0.176, 0.179, 0.182, 0.185, 0.188, 0.189, 0.19 ,\n",
              "       0.192, 0.194, 0.2  , 0.206, 0.207, 0.208, 0.211, 0.212, 0.214,\n",
              "       0.217, 0.222, 0.226, 0.227, 0.231, 0.233, 0.235, 0.238, 0.24 ,\n",
              "       0.241, 0.242, 0.244, 0.25 , 0.256, 0.257, 0.259, 0.261, 0.262,\n",
              "       0.263, 0.265, 0.267, 0.269, 0.273, 0.275, 0.276, 0.278, 0.28 ,\n",
              "       0.281, 0.282, 0.286, 0.29 , 0.292, 0.293, 0.294, 0.295, 0.296,\n",
              "       0.297, 0.3  , 0.303, 0.304, 0.306, 0.308, 0.31 , 0.312, 0.314,\n",
              "       0.316, 0.317, 0.318, 0.32 , 0.321, 0.323, 0.324, 0.327, 0.333,\n",
              "       0.341, 0.343, 0.344, 0.345, 0.346, 0.347, 0.348, 0.349, 0.35 ,\n",
              "       0.351, 0.353, 0.355, 0.357, 0.359, 0.36 , 0.361, 0.362, 0.364,\n",
              "       0.367, 0.368, 0.37 , 0.371, 0.372, 0.375, 0.378, 0.379, 0.381,\n",
              "       0.382, 0.385, 0.387, 0.388, 0.389, 0.391, 0.393, 0.394, 0.395,\n",
              "       0.396, 0.4  , 0.405, 0.406, 0.407, 0.408, 0.409, 0.41 , 0.411,\n",
              "       0.412, 0.414, 0.415, 0.417, 0.419, 0.421, 0.422, 0.423, 0.424,\n",
              "       0.425, 0.426, 0.429, 0.431, 0.432, 0.433, 0.434, 0.435, 0.436,\n",
              "       0.438, 0.439, 0.44 , 0.441, 0.442, 0.444, 0.447, 0.448, 0.449,\n",
              "       0.45 , 0.451, 0.452, 0.453, 0.455, 0.456, 0.457, 0.458, 0.459,\n",
              "       0.46 , 0.462, 0.463, 0.464, 0.465, 0.467, 0.468, 0.469, 0.471,\n",
              "       0.472, 0.473, 0.474, 0.475, 0.476, 0.477, 0.478, 0.479, 0.48 ,\n",
              "       0.481, 0.483, 0.484, 0.485, 0.486, 0.487, 0.488, 0.489, 0.49 ,\n",
              "       0.491, 0.492, 0.5  , 0.508, 0.509, 0.51 , 0.511, 0.512, 0.513,\n",
              "       0.514, 0.515, 0.516, 0.517, 0.518, 0.519, 0.52 , 0.521, 0.522,\n",
              "       0.523, 0.524, 0.525, 0.526, 0.527, 0.528, 0.529, 0.531, 0.532,\n",
              "       0.533, 0.534, 0.535, 0.536, 0.537, 0.538, 0.54 , 0.541, 0.542,\n",
              "       0.543, 0.544, 0.545, 0.547, 0.548, 0.549, 0.55 , 0.551, 0.552,\n",
              "       0.553, 0.554, 0.556, 0.557, 0.558, 0.559, 0.56 , 0.561, 0.562,\n",
              "       0.564, 0.565, 0.566, 0.567, 0.568, 0.569, 0.571, 0.573, 0.574,\n",
              "       0.575, 0.576, 0.577, 0.578, 0.579, 0.58 , 0.581, 0.582, 0.583,\n",
              "       0.585, 0.586, 0.587, 0.588, 0.589, 0.59 , 0.591, 0.592, 0.593,\n",
              "       0.594, 0.595, 0.596, 0.597, 0.6  , 0.603, 0.604, 0.605, 0.606,\n",
              "       0.607, 0.608, 0.609, 0.61 , 0.611, 0.612, 0.613, 0.614, 0.615,\n",
              "       0.616, 0.617, 0.618, 0.619, 0.62 , 0.621, 0.622, 0.623, 0.625,\n",
              "       0.627, 0.628, 0.629, 0.63 , 0.631, 0.632, 0.633, 0.634, 0.635,\n",
              "       0.636, 0.638, 0.639, 0.64 , 0.641, 0.642, 0.643, 0.644, 0.645,\n",
              "       0.646, 0.647, 0.648, 0.649, 0.65 , 0.651, 0.652, 0.653, 0.654,\n",
              "       0.655, 0.656, 0.657, 0.658, 0.659, 0.66 , 0.661, 0.662, 0.667,\n",
              "       0.671, 0.672, 0.673, 0.674, 0.675, 0.676, 0.677, 0.678, 0.679,\n",
              "       0.68 , 0.681, 0.682, 0.683, 0.684, 0.685, 0.686, 0.687, 0.688,\n",
              "       0.689, 0.69 , 0.691, 0.692, 0.693, 0.694, 0.695, 0.696, 0.697,\n",
              "       0.698, 0.699, 0.7  , 0.702, 0.703, 0.704, 0.705, 0.706, 0.707,\n",
              "       0.708, 0.709, 0.71 , 0.711, 0.712, 0.714, 0.716, 0.717, 0.718,\n",
              "       0.719, 0.72 , 0.721, 0.722, 0.723, 0.724, 0.725, 0.726, 0.727,\n",
              "       0.729, 0.73 , 0.731, 0.732, 0.733, 0.734, 0.735, 0.736, 0.737,\n",
              "       0.738, 0.739, 0.74 , 0.741, 0.742, 0.743, 0.744, 0.745, 0.746,\n",
              "       0.75 , 0.753, 0.754, 0.755, 0.756, 0.757, 0.758, 0.759, 0.76 ,\n",
              "       0.761, 0.762, 0.763, 0.764, 0.765, 0.766, 0.767, 0.768, 0.769,\n",
              "       0.77 , 0.771, 0.772, 0.773, 0.774, 0.775, 0.776, 0.778, 0.779,\n",
              "       0.78 , 0.781, 0.782, 0.783, 0.784, 0.785, 0.786, 0.787, 0.788,\n",
              "       0.789, 0.79 , 0.791, 0.792, 0.793, 0.794, 0.795, 0.796, 0.797,\n",
              "       0.8  , 0.803, 0.804, 0.805, 0.806, 0.807, 0.808, 0.809, 0.81 ,\n",
              "       0.811, 0.812, 0.814, 0.815, 0.816, 0.817, 0.818, 0.819, 0.82 ,\n",
              "       0.821, 0.822, 0.823, 0.824, 0.825, 0.826, 0.827, 0.828, 0.829,\n",
              "       0.83 , 0.831, 0.833, 0.836, 0.837, 0.838, 0.839, 0.84 , 0.841,\n",
              "       0.842, 0.843, 0.844, 0.846, 0.847, 0.848, 0.849, 0.85 , 0.851,\n",
              "       0.852, 0.853, 0.854, 0.855, 0.857, 0.859, 0.86 , 0.861, 0.862,\n",
              "       0.863, 0.864, 0.865, 0.866, 0.867, 0.868, 0.869, 0.87 , 0.871,\n",
              "       0.872, 0.873, 0.875, 0.878, 0.879, 0.88 , 0.881, 0.882, 0.884,\n",
              "       0.885, 0.886, 0.887, 0.889, 0.891, 0.892, 0.893, 0.894, 0.895,\n",
              "       0.896, 0.897, 0.898, 0.9  , 0.902, 0.903, 0.905, 0.906, 0.907,\n",
              "       0.909, 0.911, 0.912, 0.913, 0.914, 0.915, 0.917, 0.918, 0.919,\n",
              "       0.92 , 0.921, 0.922, 0.923, 0.925, 0.926, 0.927, 0.929, 0.93 ,\n",
              "       0.931, 0.932, 0.933, 0.934, 0.935, 0.936, 0.938, 0.939, 0.941,\n",
              "       0.943, 0.944, 0.946, 0.947, 0.948, 0.949, 0.95 , 0.951, 0.952,\n",
              "       0.953, 0.955, 0.956, 0.957, 0.958, 0.96 , 0.962, 0.963, 0.964,\n",
              "       0.966, 0.967, 0.968, 0.969, 0.97 , 0.971, 0.972, 0.973, 0.974,\n",
              "       0.975, 0.976, 0.977, 0.978, 0.98 , 0.981, 1.   , 1.018, 1.022,\n",
              "       1.023, 1.024, 1.025, 1.026, 1.027, 1.028, 1.029, 1.03 , 1.031,\n",
              "       1.032, 1.033, 1.034, 1.036, 1.037, 1.038, 1.04 , 1.042, 1.043,\n",
              "       1.045, 1.048, 1.049, 1.05 , 1.051, 1.053, 1.054, 1.056, 1.057,\n",
              "       1.059, 1.06 , 1.061, 1.062, 1.064, 1.065, 1.067, 1.069, 1.071,\n",
              "       1.073, 1.074, 1.075, 1.077, 1.079, 1.08 , 1.081, 1.083, 1.086,\n",
              "       1.087, 1.088, 1.091, 1.093, 1.094, 1.095, 1.097, 1.1  , 1.103,\n",
              "       1.105, 1.107, 1.108, 1.111, 1.114, 1.115, 1.118, 1.12 , 1.121,\n",
              "       1.122, 1.125, 1.128, 1.13 , 1.133, 1.135, 1.136, 1.138, 1.139,\n",
              "       1.143, 1.147, 1.148, 1.15 , 1.152, 1.154, 1.156, 1.158, 1.16 ,\n",
              "       1.161, 1.162, 1.167, 1.171, 1.172, 1.174, 1.176, 1.179, 1.182,\n",
              "       1.188, 1.189, 1.194, 1.2  , 1.206, 1.207, 1.208, 1.211, 1.212,\n",
              "       1.214, 1.217, 1.219, 1.222, 1.226, 1.227, 1.229, 1.231, 1.235,\n",
              "       1.24 , 1.25 , 1.258, 1.263, 1.273, 1.278, 1.286, 1.29 , 1.292,\n",
              "       1.294, 1.3  , 1.303, 1.308, 1.31 , 1.312, 1.316, 1.318, 1.32 ,\n",
              "       1.321, 1.323, 1.333, 1.346, 1.35 , 1.357, 1.36 , 1.364, 1.367,\n",
              "       1.37 , 1.375, 1.381, 1.382, 1.385, 1.391, 1.4  , 1.412, 1.417,\n",
              "       1.419, 1.421, 1.429, 1.438, 1.444, 1.45 , 1.455, 1.458, 1.462,\n",
              "       1.467, 1.471, 1.474, 1.476, 1.478, 1.48 , 1.5  , 1.522, 1.533,\n",
              "       1.538, 1.545, 1.571, 1.579, 1.583, 1.6  , 1.609, 1.615, 1.625,\n",
              "       1.636, 1.647, 1.65 , 1.667, 1.684, 1.7  , 1.722, 1.75 , 1.778,\n",
              "       1.783, 1.8  , 1.833, 1.857, 1.875, 1.882, 1.909, 1.923, 2.   ,\n",
              "       2.083, 2.1  , 2.167, 2.182, 2.2  , 2.222, 2.273, 2.286, 2.333,\n",
              "       2.4  , 2.429, 2.5  , 2.571, 2.75 , 2.875, 3.   , 3.25 , 3.5  ,\n",
              "       3.571, 3.714])"
            ]
          },
          "metadata": {},
          "execution_count": 44
        }
      ]
    },
    {
      "cell_type": "code",
      "source": [
        "Avg_Utilization_Ratio = df[\"Avg_Utilization_Ratio\"].unique()\n",
        "Avg_Utilization_Ratio.sort()\n",
        "Avg_Utilization_Ratio"
      ],
      "metadata": {
        "colab": {
          "base_uri": "https://localhost:8080/"
        },
        "id": "qDVhSphXJC5L",
        "outputId": "333fd466-d624-4cad-dbf0-421101e50d3e"
      },
      "execution_count": 46,
      "outputs": [
        {
          "output_type": "execute_result",
          "data": {
            "text/plain": [
              "array([0.   , 0.004, 0.005, 0.006, 0.007, 0.008, 0.009, 0.01 , 0.011,\n",
              "       0.012, 0.013, 0.014, 0.015, 0.016, 0.017, 0.018, 0.019, 0.02 ,\n",
              "       0.021, 0.022, 0.023, 0.024, 0.025, 0.026, 0.027, 0.028, 0.029,\n",
              "       0.03 , 0.031, 0.032, 0.033, 0.034, 0.035, 0.036, 0.037, 0.038,\n",
              "       0.039, 0.04 , 0.041, 0.042, 0.043, 0.044, 0.045, 0.046, 0.047,\n",
              "       0.048, 0.049, 0.05 , 0.051, 0.052, 0.053, 0.054, 0.055, 0.056,\n",
              "       0.057, 0.058, 0.059, 0.06 , 0.061, 0.062, 0.063, 0.064, 0.065,\n",
              "       0.066, 0.067, 0.068, 0.069, 0.07 , 0.071, 0.072, 0.073, 0.074,\n",
              "       0.075, 0.076, 0.077, 0.078, 0.079, 0.08 , 0.081, 0.082, 0.083,\n",
              "       0.084, 0.085, 0.086, 0.087, 0.088, 0.089, 0.09 , 0.091, 0.092,\n",
              "       0.093, 0.094, 0.095, 0.096, 0.097, 0.098, 0.099, 0.1  , 0.101,\n",
              "       0.102, 0.103, 0.104, 0.105, 0.106, 0.107, 0.108, 0.109, 0.11 ,\n",
              "       0.111, 0.112, 0.113, 0.114, 0.115, 0.116, 0.117, 0.118, 0.119,\n",
              "       0.12 , 0.121, 0.122, 0.123, 0.124, 0.125, 0.126, 0.127, 0.128,\n",
              "       0.129, 0.13 , 0.131, 0.132, 0.133, 0.134, 0.135, 0.136, 0.137,\n",
              "       0.138, 0.139, 0.14 , 0.141, 0.142, 0.143, 0.144, 0.145, 0.146,\n",
              "       0.147, 0.148, 0.149, 0.15 , 0.151, 0.152, 0.153, 0.154, 0.155,\n",
              "       0.156, 0.157, 0.158, 0.159, 0.16 , 0.161, 0.162, 0.163, 0.164,\n",
              "       0.165, 0.166, 0.167, 0.168, 0.169, 0.17 , 0.171, 0.172, 0.173,\n",
              "       0.174, 0.175, 0.176, 0.177, 0.178, 0.179, 0.18 , 0.181, 0.182,\n",
              "       0.183, 0.184, 0.185, 0.186, 0.187, 0.188, 0.189, 0.19 , 0.191,\n",
              "       0.192, 0.193, 0.194, 0.195, 0.196, 0.197, 0.198, 0.199, 0.2  ,\n",
              "       0.201, 0.202, 0.203, 0.204, 0.205, 0.206, 0.207, 0.208, 0.209,\n",
              "       0.21 , 0.211, 0.212, 0.213, 0.214, 0.215, 0.216, 0.217, 0.218,\n",
              "       0.219, 0.22 , 0.221, 0.222, 0.223, 0.224, 0.225, 0.226, 0.227,\n",
              "       0.228, 0.229, 0.23 , 0.231, 0.232, 0.233, 0.234, 0.235, 0.236,\n",
              "       0.237, 0.238, 0.239, 0.24 , 0.241, 0.242, 0.243, 0.244, 0.245,\n",
              "       0.246, 0.247, 0.248, 0.249, 0.25 , 0.251, 0.252, 0.253, 0.254,\n",
              "       0.255, 0.256, 0.257, 0.258, 0.259, 0.26 , 0.261, 0.262, 0.263,\n",
              "       0.264, 0.265, 0.266, 0.267, 0.268, 0.269, 0.27 , 0.271, 0.272,\n",
              "       0.273, 0.274, 0.275, 0.276, 0.277, 0.278, 0.279, 0.28 , 0.281,\n",
              "       0.282, 0.283, 0.284, 0.285, 0.286, 0.287, 0.288, 0.289, 0.29 ,\n",
              "       0.291, 0.292, 0.293, 0.294, 0.295, 0.296, 0.297, 0.298, 0.299,\n",
              "       0.3  , 0.301, 0.302, 0.303, 0.304, 0.305, 0.306, 0.307, 0.308,\n",
              "       0.309, 0.31 , 0.311, 0.312, 0.313, 0.314, 0.315, 0.316, 0.317,\n",
              "       0.318, 0.319, 0.32 , 0.321, 0.322, 0.323, 0.324, 0.325, 0.326,\n",
              "       0.327, 0.328, 0.329, 0.33 , 0.331, 0.332, 0.333, 0.334, 0.335,\n",
              "       0.336, 0.337, 0.338, 0.339, 0.34 , 0.341, 0.342, 0.343, 0.344,\n",
              "       0.345, 0.346, 0.347, 0.348, 0.349, 0.35 , 0.351, 0.352, 0.353,\n",
              "       0.354, 0.355, 0.356, 0.357, 0.358, 0.359, 0.36 , 0.361, 0.362,\n",
              "       0.363, 0.364, 0.365, 0.366, 0.367, 0.368, 0.369, 0.37 , 0.371,\n",
              "       0.372, 0.373, 0.374, 0.375, 0.376, 0.377, 0.378, 0.379, 0.38 ,\n",
              "       0.381, 0.382, 0.383, 0.384, 0.385, 0.386, 0.387, 0.388, 0.389,\n",
              "       0.39 , 0.391, 0.392, 0.393, 0.394, 0.395, 0.396, 0.397, 0.398,\n",
              "       0.399, 0.4  , 0.401, 0.402, 0.403, 0.404, 0.405, 0.406, 0.407,\n",
              "       0.408, 0.409, 0.41 , 0.411, 0.412, 0.413, 0.414, 0.415, 0.416,\n",
              "       0.417, 0.418, 0.419, 0.42 , 0.421, 0.422, 0.423, 0.424, 0.425,\n",
              "       0.426, 0.427, 0.428, 0.429, 0.43 , 0.431, 0.432, 0.433, 0.434,\n",
              "       0.435, 0.436, 0.437, 0.438, 0.439, 0.44 , 0.441, 0.442, 0.443,\n",
              "       0.444, 0.445, 0.446, 0.447, 0.448, 0.449, 0.45 , 0.451, 0.452,\n",
              "       0.453, 0.454, 0.455, 0.456, 0.457, 0.458, 0.459, 0.46 , 0.461,\n",
              "       0.462, 0.463, 0.464, 0.465, 0.466, 0.467, 0.468, 0.469, 0.47 ,\n",
              "       0.471, 0.472, 0.473, 0.474, 0.475, 0.476, 0.477, 0.478, 0.479,\n",
              "       0.48 , 0.481, 0.482, 0.483, 0.484, 0.485, 0.486, 0.487, 0.488,\n",
              "       0.489, 0.49 , 0.491, 0.492, 0.493, 0.494, 0.495, 0.496, 0.497,\n",
              "       0.498, 0.499, 0.5  , 0.501, 0.502, 0.503, 0.504, 0.505, 0.506,\n",
              "       0.507, 0.508, 0.509, 0.51 , 0.511, 0.512, 0.513, 0.514, 0.515,\n",
              "       0.516, 0.517, 0.518, 0.519, 0.52 , 0.521, 0.522, 0.523, 0.524,\n",
              "       0.525, 0.526, 0.527, 0.528, 0.529, 0.53 , 0.531, 0.532, 0.533,\n",
              "       0.534, 0.535, 0.536, 0.537, 0.538, 0.539, 0.54 , 0.541, 0.542,\n",
              "       0.543, 0.544, 0.545, 0.546, 0.547, 0.548, 0.549, 0.55 , 0.551,\n",
              "       0.552, 0.553, 0.554, 0.555, 0.556, 0.557, 0.558, 0.559, 0.56 ,\n",
              "       0.561, 0.562, 0.563, 0.564, 0.565, 0.566, 0.567, 0.568, 0.569,\n",
              "       0.57 , 0.571, 0.572, 0.573, 0.574, 0.575, 0.576, 0.577, 0.578,\n",
              "       0.579, 0.58 , 0.581, 0.582, 0.583, 0.584, 0.585, 0.586, 0.587,\n",
              "       0.588, 0.589, 0.59 , 0.591, 0.592, 0.593, 0.594, 0.595, 0.596,\n",
              "       0.597, 0.598, 0.599, 0.6  , 0.601, 0.602, 0.603, 0.604, 0.605,\n",
              "       0.606, 0.607, 0.608, 0.609, 0.61 , 0.611, 0.612, 0.613, 0.614,\n",
              "       0.615, 0.616, 0.617, 0.618, 0.619, 0.62 , 0.621, 0.622, 0.623,\n",
              "       0.624, 0.625, 0.626, 0.627, 0.628, 0.629, 0.63 , 0.631, 0.632,\n",
              "       0.633, 0.634, 0.635, 0.636, 0.637, 0.638, 0.639, 0.64 , 0.641,\n",
              "       0.642, 0.643, 0.644, 0.645, 0.646, 0.647, 0.648, 0.649, 0.65 ,\n",
              "       0.651, 0.652, 0.653, 0.654, 0.655, 0.656, 0.657, 0.658, 0.659,\n",
              "       0.66 , 0.661, 0.662, 0.663, 0.664, 0.665, 0.666, 0.667, 0.668,\n",
              "       0.669, 0.67 , 0.671, 0.672, 0.673, 0.674, 0.675, 0.676, 0.677,\n",
              "       0.678, 0.679, 0.68 , 0.681, 0.682, 0.683, 0.684, 0.685, 0.686,\n",
              "       0.687, 0.688, 0.689, 0.69 , 0.691, 0.692, 0.693, 0.694, 0.695,\n",
              "       0.696, 0.697, 0.698, 0.699, 0.7  , 0.701, 0.702, 0.703, 0.704,\n",
              "       0.705, 0.706, 0.707, 0.708, 0.709, 0.71 , 0.711, 0.712, 0.713,\n",
              "       0.714, 0.715, 0.716, 0.717, 0.718, 0.719, 0.72 , 0.721, 0.722,\n",
              "       0.723, 0.724, 0.725, 0.726, 0.727, 0.728, 0.729, 0.73 , 0.731,\n",
              "       0.732, 0.733, 0.734, 0.735, 0.736, 0.737, 0.738, 0.739, 0.74 ,\n",
              "       0.741, 0.742, 0.743, 0.744, 0.745, 0.746, 0.747, 0.748, 0.749,\n",
              "       0.75 , 0.751, 0.752, 0.753, 0.754, 0.755, 0.756, 0.757, 0.758,\n",
              "       0.759, 0.76 , 0.761, 0.762, 0.763, 0.764, 0.765, 0.766, 0.767,\n",
              "       0.768, 0.769, 0.77 , 0.771, 0.772, 0.773, 0.774, 0.775, 0.776,\n",
              "       0.777, 0.778, 0.779, 0.78 , 0.781, 0.782, 0.783, 0.784, 0.785,\n",
              "       0.786, 0.787, 0.788, 0.789, 0.79 , 0.791, 0.792, 0.793, 0.794,\n",
              "       0.795, 0.796, 0.797, 0.798, 0.799, 0.8  , 0.801, 0.802, 0.803,\n",
              "       0.804, 0.805, 0.806, 0.807, 0.808, 0.809, 0.81 , 0.811, 0.812,\n",
              "       0.813, 0.814, 0.815, 0.816, 0.817, 0.818, 0.819, 0.82 , 0.821,\n",
              "       0.822, 0.823, 0.824, 0.825, 0.826, 0.827, 0.828, 0.829, 0.83 ,\n",
              "       0.831, 0.832, 0.833, 0.834, 0.835, 0.836, 0.837, 0.839, 0.84 ,\n",
              "       0.841, 0.842, 0.843, 0.844, 0.845, 0.846, 0.847, 0.848, 0.849,\n",
              "       0.85 , 0.851, 0.852, 0.853, 0.854, 0.855, 0.856, 0.857, 0.858,\n",
              "       0.859, 0.86 , 0.861, 0.862, 0.863, 0.864, 0.865, 0.866, 0.867,\n",
              "       0.868, 0.869, 0.87 , 0.871, 0.872, 0.873, 0.874, 0.875, 0.876,\n",
              "       0.877, 0.878, 0.879, 0.88 , 0.881, 0.882, 0.883, 0.884, 0.885,\n",
              "       0.886, 0.887, 0.889, 0.891, 0.893, 0.894, 0.895, 0.896, 0.897,\n",
              "       0.898, 0.899, 0.9  , 0.901, 0.902, 0.903, 0.904, 0.905, 0.906,\n",
              "       0.907, 0.909, 0.91 , 0.911, 0.912, 0.913, 0.914, 0.915, 0.916,\n",
              "       0.917, 0.918, 0.919, 0.92 , 0.921, 0.922, 0.924, 0.925, 0.926,\n",
              "       0.927, 0.928, 0.929, 0.93 , 0.931, 0.932, 0.934, 0.935, 0.938,\n",
              "       0.94 , 0.941, 0.942, 0.943, 0.944, 0.945, 0.948, 0.949, 0.951,\n",
              "       0.952, 0.953, 0.954, 0.955, 0.956, 0.958, 0.959, 0.96 , 0.962,\n",
              "       0.963, 0.964, 0.968, 0.971, 0.972, 0.973, 0.976, 0.977, 0.978,\n",
              "       0.983, 0.984, 0.985, 0.987, 0.988, 0.99 , 0.992, 0.994, 0.995,\n",
              "       0.999])"
            ]
          },
          "metadata": {},
          "execution_count": 46
        }
      ]
    },
    {
      "cell_type": "code",
      "source": [
        "# Export cleaned DataFrame to csv to create a database\n",
        "df.to_csv('BankChurners.csv', index=None) \n",
        "files.download('BankChurners.csv')"
      ],
      "metadata": {
        "colab": {
          "base_uri": "https://localhost:8080/",
          "height": 17
        },
        "id": "LwKxldsDKLpL",
        "outputId": "b2b430bb-3dad-4521-d52e-1f98dd7f94eb"
      },
      "execution_count": 53,
      "outputs": [
        {
          "output_type": "display_data",
          "data": {
            "text/plain": [
              "<IPython.core.display.Javascript object>"
            ],
            "application/javascript": [
              "\n",
              "    async function download(id, filename, size) {\n",
              "      if (!google.colab.kernel.accessAllowed) {\n",
              "        return;\n",
              "      }\n",
              "      const div = document.createElement('div');\n",
              "      const label = document.createElement('label');\n",
              "      label.textContent = `Downloading \"${filename}\": `;\n",
              "      div.appendChild(label);\n",
              "      const progress = document.createElement('progress');\n",
              "      progress.max = size;\n",
              "      div.appendChild(progress);\n",
              "      document.body.appendChild(div);\n",
              "\n",
              "      const buffers = [];\n",
              "      let downloaded = 0;\n",
              "\n",
              "      const channel = await google.colab.kernel.comms.open(id);\n",
              "      // Send a message to notify the kernel that we're ready.\n",
              "      channel.send({})\n",
              "\n",
              "      for await (const message of channel.messages) {\n",
              "        // Send a message to notify the kernel that we're ready.\n",
              "        channel.send({})\n",
              "        if (message.buffers) {\n",
              "          for (const buffer of message.buffers) {\n",
              "            buffers.push(buffer);\n",
              "            downloaded += buffer.byteLength;\n",
              "            progress.value = downloaded;\n",
              "          }\n",
              "        }\n",
              "      }\n",
              "      const blob = new Blob(buffers, {type: 'application/binary'});\n",
              "      const a = document.createElement('a');\n",
              "      a.href = window.URL.createObjectURL(blob);\n",
              "      a.download = filename;\n",
              "      div.appendChild(a);\n",
              "      a.click();\n",
              "      div.remove();\n",
              "    }\n",
              "  "
            ]
          },
          "metadata": {}
        },
        {
          "output_type": "display_data",
          "data": {
            "text/plain": [
              "<IPython.core.display.Javascript object>"
            ],
            "application/javascript": [
              "download(\"download_5496aab8-5d3f-4206-902c-ba08a2d81b5a\", \"BankChurners.csv\", 1433120)"
            ]
          },
          "metadata": {}
        }
      ]
    },
    {
      "cell_type": "code",
      "source": [],
      "metadata": {
        "id": "W_L_bO5HWxSb"
      },
      "execution_count": null,
      "outputs": []
    }
  ]
}